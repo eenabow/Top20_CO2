{
 "cells": [
  {
   "cell_type": "code",
   "execution_count": 5,
   "metadata": {},
   "outputs": [],
   "source": [
    "# Dependencies and Setup\n",
    "import pandas as pd\n",
    "import numpy as np\n",
    "import sqlalchemy\n",
    "\n",
    "\n",
    "# Storing columns to keep in a list to re-iterate over multiple csv's\n",
    "columns_to_keep = [\"Country Name\", \"Country Code\", \"Indicator Name\", \"2015\"]\n",
    "# columns_to_keep = [\"Country Name\", \"Country Code\", \"Indicator Name\", \"2000\", \"2001\", \"2002\", \"2003\", \"2004\", \"2005\", \"2006\", \"2007\", \"2008\", \"2009\", \"2010\", \"2011\", \"2012\", \"2013\", \"2014\", \"2015\"]\n",
    "\n",
    "rows_to_remove = [\"WLD\", \"IBT\", \"LMY\", \"MIC\", \"IBD\", \"EAP\", \"EAR\", \"EAS\", \"ECA\", \"ECS\", \"EMU\", \"FCS\", \"HIC\", \"HPC\", \"IDB\", \"IDA\", \"IDX\", \"LAC\", \"LIC\", \"LDC\", \"LCN\", \"LMC\", \"LMY\", \"LTE\", \"MEA\", \"MNA\", \"NAC\", \"OED\", \"OSS\", \"PRE\", \"PST\", \"SAS\", \"SSA\", \"SSF\", \"SST\", \"TEA\", \"TEC\", \"TLA\", \"TMN\", \"TSA\", \"TSS\", \"UMC\", \"EUU\", \"ARB\"]"
   ]
  },
  {
   "source": [
    "## CO2 emissions cleaning"
   ],
   "cell_type": "markdown",
   "metadata": {}
  },
  {
   "cell_type": "code",
   "execution_count": 6,
   "metadata": {},
   "outputs": [],
   "source": [
    "# Loading raw CO2 emissions data and cleaning\n",
    "data = pd.read_csv('raw_data/CO2emissions_data.csv', error_bad_lines=False)"
   ]
  },
  {
   "cell_type": "code",
   "execution_count": 7,
   "metadata": {},
   "outputs": [],
   "source": [
    "# Filtering to only columns to keep \n",
    "Organized_df = data[columns_to_keep]"
   ]
  },
  {
   "cell_type": "code",
   "execution_count": 8,
   "metadata": {},
   "outputs": [],
   "source": [
    "# Drop NANs\n",
    "CO2_data = Organized_df.dropna()"
   ]
  },
  {
   "cell_type": "code",
   "execution_count": 9,
   "metadata": {},
   "outputs": [
    {
     "output_type": "stream",
     "name": "stderr",
     "text": [
      "/Users/jakeazus/opt/anaconda3/lib/python3.8/site-packages/pandas/core/frame.py:4296: SettingWithCopyWarning: \nA value is trying to be set on a copy of a slice from a DataFrame\n\nSee the caveats in the documentation: https://pandas.pydata.org/pandas-docs/stable/user_guide/indexing.html#returning-a-view-versus-a-copy\n  return super().rename(\n"
     ]
    },
    {
     "output_type": "execute_result",
     "data": {
      "text/plain": [
       "Country Name      250\n",
       "Indicator Name    250\n",
       "2015              250\n",
       "dtype: int64"
      ]
     },
     "metadata": {},
     "execution_count": 9
    }
   ],
   "source": [
    "# Renaming columns \n",
    "CO2_data.rename(columns={\"country_name\":\"Country Name\",\"country_code\":\"Country Code\",\"indicator_name\":\"Indicator Name\"}, inplace = True)\n",
    "\n",
    "# Resetting index to country code\n",
    "CO2_data.set_index(\"Country Code\", inplace=True)\n",
    "\n",
    "# Counting initial amount of rows before dropping non-countries\n",
    "CO2_data.count()"
   ]
  },
  {
   "cell_type": "code",
   "execution_count": 10,
   "metadata": {},
   "outputs": [],
   "source": [
    "# Dropping any indices that are non-countries ex. WLD is for the entire World CO2 emissions\n",
    "CO2_data = CO2_data.drop(index=[\"WLD\", \"IBT\", \"LMY\", \"MIC\", \"IBD\", \"EAP\", \"EAR\", \"EAS\", \"ECA\", \"ECS\", \"EMU\", \"FCS\", \"HIC\", \"HPC\", \"IDB\", \"IDA\", \"IDX\", \"LAC\", \"LIC\", \"LDC\", \"LCN\", \"LMC\", \"LMY\", \"LTE\", \"MEA\", \"MNA\", \"NAC\", \"OED\", \"OSS\", \"PRE\", \"PST\", \"SAS\", \"SSA\", \"SSF\", \"SST\", \"TEA\", \"TEC\", \"TLA\", \"TMN\", \"TSA\", \"TSS\", \"UMC\", \"EUU\", \"ARB\", \"CEB\"])\n"
   ]
  },
  {
   "cell_type": "code",
   "execution_count": 11,
   "metadata": {},
   "outputs": [
    {
     "output_type": "execute_result",
     "data": {
      "text/plain": [
       "Country Name      206\n",
       "Indicator Name    206\n",
       "2015              206\n",
       "dtype: int64"
      ]
     },
     "metadata": {},
     "execution_count": 11
    }
   ],
   "source": [
    "# Confirming indices were dropped \n",
    "CO2_data.count()"
   ]
  },
  {
   "cell_type": "code",
   "execution_count": 278,
   "metadata": {},
   "outputs": [
    {
     "output_type": "execute_result",
     "data": {
      "text/plain": [
       "             Country Name      Indicator Name      2000      2001       2002  \\\n",
       "Country Code                                                                   \n",
       "ABW                 Aruba  CO2 emissions (kt)  2379.883  2409.219   2438.555   \n",
       "AFG           Afghanistan  CO2 emissions (kt)   773.737   817.741   1070.764   \n",
       "AGO                Angola  CO2 emissions (kt)  9541.534  9732.218  12665.818   \n",
       "ALB               Albania  CO2 emissions (kt)  3021.608  3223.293   3751.341   \n",
       "AND               Andorra  CO2 emissions (kt)   524.381   524.381    531.715   \n",
       "\n",
       "                  2003       2004       2005       2006       2007       2008  \\\n",
       "Country Code                                                                    \n",
       "ABW           2563.233   2618.238   2720.914   2717.247   2823.590   2658.575   \n",
       "AFG           1213.777    916.750   1327.454   1650.150   2273.540   4206.049   \n",
       "AGO           9064.824  18793.375  19156.408  22266.024  25151.953  25709.337   \n",
       "ALB           4294.057   4165.712   4253.720   3898.021   3927.357   4374.731   \n",
       "AND            535.382    561.051    575.719    546.383    539.049    539.049   \n",
       "\n",
       "                   2009       2010       2011       2012       2013  \\\n",
       "Country Code                                                          \n",
       "ABW            2629.239   2508.228   2500.894   1349.456    861.745   \n",
       "AFG            6769.282   8463.436  12240.446  10755.311   9050.156   \n",
       "AGO           27792.193  29057.308  30586.447  34176.440  33692.396   \n",
       "ALB            4378.398   4598.418   5240.143   4924.781   4913.780   \n",
       "AND             517.047    517.047    491.378    487.711    476.710   \n",
       "\n",
       "                   2014       2015  \n",
       "Country Code                        \n",
       "ABW             872.746    898.415  \n",
       "AFG            8467.103   9035.488  \n",
       "AGO           44851.077  34583.477  \n",
       "ALB            5489.499   4616.753  \n",
       "AND             462.042    465.709  "
      ],
      "text/html": "<div>\n<style scoped>\n    .dataframe tbody tr th:only-of-type {\n        vertical-align: middle;\n    }\n\n    .dataframe tbody tr th {\n        vertical-align: top;\n    }\n\n    .dataframe thead th {\n        text-align: right;\n    }\n</style>\n<table border=\"1\" class=\"dataframe\">\n  <thead>\n    <tr style=\"text-align: right;\">\n      <th></th>\n      <th>Country Name</th>\n      <th>Indicator Name</th>\n      <th>2000</th>\n      <th>2001</th>\n      <th>2002</th>\n      <th>2003</th>\n      <th>2004</th>\n      <th>2005</th>\n      <th>2006</th>\n      <th>2007</th>\n      <th>2008</th>\n      <th>2009</th>\n      <th>2010</th>\n      <th>2011</th>\n      <th>2012</th>\n      <th>2013</th>\n      <th>2014</th>\n      <th>2015</th>\n    </tr>\n    <tr>\n      <th>Country Code</th>\n      <th></th>\n      <th></th>\n      <th></th>\n      <th></th>\n      <th></th>\n      <th></th>\n      <th></th>\n      <th></th>\n      <th></th>\n      <th></th>\n      <th></th>\n      <th></th>\n      <th></th>\n      <th></th>\n      <th></th>\n      <th></th>\n      <th></th>\n      <th></th>\n    </tr>\n  </thead>\n  <tbody>\n    <tr>\n      <th>ABW</th>\n      <td>Aruba</td>\n      <td>CO2 emissions (kt)</td>\n      <td>2379.883</td>\n      <td>2409.219</td>\n      <td>2438.555</td>\n      <td>2563.233</td>\n      <td>2618.238</td>\n      <td>2720.914</td>\n      <td>2717.247</td>\n      <td>2823.590</td>\n      <td>2658.575</td>\n      <td>2629.239</td>\n      <td>2508.228</td>\n      <td>2500.894</td>\n      <td>1349.456</td>\n      <td>861.745</td>\n      <td>872.746</td>\n      <td>898.415</td>\n    </tr>\n    <tr>\n      <th>AFG</th>\n      <td>Afghanistan</td>\n      <td>CO2 emissions (kt)</td>\n      <td>773.737</td>\n      <td>817.741</td>\n      <td>1070.764</td>\n      <td>1213.777</td>\n      <td>916.750</td>\n      <td>1327.454</td>\n      <td>1650.150</td>\n      <td>2273.540</td>\n      <td>4206.049</td>\n      <td>6769.282</td>\n      <td>8463.436</td>\n      <td>12240.446</td>\n      <td>10755.311</td>\n      <td>9050.156</td>\n      <td>8467.103</td>\n      <td>9035.488</td>\n    </tr>\n    <tr>\n      <th>AGO</th>\n      <td>Angola</td>\n      <td>CO2 emissions (kt)</td>\n      <td>9541.534</td>\n      <td>9732.218</td>\n      <td>12665.818</td>\n      <td>9064.824</td>\n      <td>18793.375</td>\n      <td>19156.408</td>\n      <td>22266.024</td>\n      <td>25151.953</td>\n      <td>25709.337</td>\n      <td>27792.193</td>\n      <td>29057.308</td>\n      <td>30586.447</td>\n      <td>34176.440</td>\n      <td>33692.396</td>\n      <td>44851.077</td>\n      <td>34583.477</td>\n    </tr>\n    <tr>\n      <th>ALB</th>\n      <td>Albania</td>\n      <td>CO2 emissions (kt)</td>\n      <td>3021.608</td>\n      <td>3223.293</td>\n      <td>3751.341</td>\n      <td>4294.057</td>\n      <td>4165.712</td>\n      <td>4253.720</td>\n      <td>3898.021</td>\n      <td>3927.357</td>\n      <td>4374.731</td>\n      <td>4378.398</td>\n      <td>4598.418</td>\n      <td>5240.143</td>\n      <td>4924.781</td>\n      <td>4913.780</td>\n      <td>5489.499</td>\n      <td>4616.753</td>\n    </tr>\n    <tr>\n      <th>AND</th>\n      <td>Andorra</td>\n      <td>CO2 emissions (kt)</td>\n      <td>524.381</td>\n      <td>524.381</td>\n      <td>531.715</td>\n      <td>535.382</td>\n      <td>561.051</td>\n      <td>575.719</td>\n      <td>546.383</td>\n      <td>539.049</td>\n      <td>539.049</td>\n      <td>517.047</td>\n      <td>517.047</td>\n      <td>491.378</td>\n      <td>487.711</td>\n      <td>476.710</td>\n      <td>462.042</td>\n      <td>465.709</td>\n    </tr>\n  </tbody>\n</table>\n</div>"
     },
     "metadata": {},
     "execution_count": 278
    }
   ],
   "source": [
    "CO2_data.head(5)"
   ]
  },
  {
   "source": [
    "## GDP Cleaning"
   ],
   "cell_type": "markdown",
   "metadata": {}
  },
  {
   "cell_type": "code",
   "execution_count": 279,
   "metadata": {},
   "outputs": [],
   "source": [
    "# Loading raw GDP data and cleaning\n",
    "data = pd.read_csv('raw_data/GDPpercapita-data.csv', error_bad_lines=False)"
   ]
  },
  {
   "cell_type": "code",
   "execution_count": 280,
   "metadata": {},
   "outputs": [],
   "source": [
    "# Filtering to only columns to keep \n",
    "Organized_df = data[columns_to_keep]"
   ]
  },
  {
   "cell_type": "code",
   "execution_count": 281,
   "metadata": {},
   "outputs": [],
   "source": [
    "# Drop NANs\n",
    "GDP_data = Organized_df.dropna()"
   ]
  },
  {
   "cell_type": "code",
   "execution_count": 282,
   "metadata": {},
   "outputs": [
    {
     "output_type": "stream",
     "name": "stderr",
     "text": [
      "C:\\Users\\eenab\\anaconda3\\lib\\site-packages\\pandas\\core\\frame.py:4125: SettingWithCopyWarning: \nA value is trying to be set on a copy of a slice from a DataFrame\n\nSee the caveats in the documentation: https://pandas.pydata.org/pandas-docs/stable/user_guide/indexing.html#returning-a-view-versus-a-copy\n  return super().rename(\n"
     ]
    }
   ],
   "source": [
    "# Renaming columns \n",
    "GDP_data.rename(columns={\"country_name\":\"Country Name\",\"country_code\":\"Country Code\",\"indicator_name\":\"Indicator Name\"}, inplace = True)\n",
    "\n",
    "# Resetting index\n",
    "GDP_data.set_index(\"Country Code\", inplace=True)"
   ]
  },
  {
   "cell_type": "code",
   "execution_count": 283,
   "metadata": {},
   "outputs": [],
   "source": [
    "# Dropping any indices that are non-countries ex. WLD is for the entire World CO2 emissions\n",
    "GDP_data = GDP_data.drop(index=[\"WLD\", \"IBT\", \"LMY\", \"MIC\", \"IBD\", \"EAP\", \"EAR\", \"EAS\", \"ECA\", \"ECS\", \"EMU\", \"FCS\", \"HIC\", \"HPC\", \"IDB\", \"IDA\", \"IDX\", \"LAC\", \"LIC\", \"LDC\", \"LCN\", \"LMC\", \"LMY\", \"LTE\", \"MEA\", \"MNA\", \"NAC\", \"OED\", \"PRE\", \"PST\", \"SAS\", \"SSA\", \"SSF\", \"SST\", \"TEA\", \"TEC\", \"TLA\", \"TMN\", \"TSA\", \"TSS\", \"UMC\", \"EUU\", \"ARB\", \"CEB\"])"
   ]
  },
  {
   "cell_type": "code",
   "execution_count": 284,
   "metadata": {},
   "outputs": [
    {
     "output_type": "execute_result",
     "data": {
      "text/plain": [
       "                      Country Name                    Indicator Name  \\\n",
       "Country Code                                                           \n",
       "ABW                          Aruba  GDP per capita growth (annual %)   \n",
       "AGO                         Angola  GDP per capita growth (annual %)   \n",
       "ALB                        Albania  GDP per capita growth (annual %)   \n",
       "AND                        Andorra  GDP per capita growth (annual %)   \n",
       "ARE           United Arab Emirates  GDP per capita growth (annual %)   \n",
       "\n",
       "                  2000      2001      2002      2003      2004       2005  \\\n",
       "Country Code                                                                \n",
       "ABW           5.427608 -5.107188 -5.405878 -0.152951  6.031742  -0.094958   \n",
       "AGO          -0.267945  0.822114  9.943764 -0.431851  7.187036  11.030836   \n",
       "ALB           7.633866  9.311124  4.853922  5.925630  5.951881   6.071391   \n",
       "AND           1.913452  4.986929  0.504741  4.040888  3.792889   1.892421   \n",
       "ARE           4.909504 -3.778971 -2.750615  1.966528 -0.037811  -7.020584   \n",
       "\n",
       "                  2006       2007       2008       2009      2010      2011  \\\n",
       "Country Code                                                                  \n",
       "ABW           0.245883   1.410010  -0.224764 -10.605300 -3.887760  3.063882   \n",
       "AGO           7.582329   9.890012   7.116873  -2.808634  0.640294 -0.220851   \n",
       "ALB           6.570332   6.783927   8.328036   4.048888  4.223038  2.821558   \n",
       "AND           2.057546  -0.523712  -6.885786  -5.976668 -1.958707  0.830102   \n",
       "ARE          -4.916643 -11.345504 -10.208775 -15.151256 -5.914810  2.187921   \n",
       "\n",
       "                  2012      2013      2014      2015  \n",
       "Country Code                                          \n",
       "ABW          -1.864168  3.593198 -0.294412  5.125616  \n",
       "AGO           4.706498  1.292041  1.219835 -2.468719  \n",
       "ALB           1.585156  1.187204  1.985426  2.516853  \n",
       "AND          -3.452688 -1.573746  4.524456  2.997046  \n",
       "ARE           2.257926  4.410159  4.100219  4.553055  "
      ],
      "text/html": "<div>\n<style scoped>\n    .dataframe tbody tr th:only-of-type {\n        vertical-align: middle;\n    }\n\n    .dataframe tbody tr th {\n        vertical-align: top;\n    }\n\n    .dataframe thead th {\n        text-align: right;\n    }\n</style>\n<table border=\"1\" class=\"dataframe\">\n  <thead>\n    <tr style=\"text-align: right;\">\n      <th></th>\n      <th>Country Name</th>\n      <th>Indicator Name</th>\n      <th>2000</th>\n      <th>2001</th>\n      <th>2002</th>\n      <th>2003</th>\n      <th>2004</th>\n      <th>2005</th>\n      <th>2006</th>\n      <th>2007</th>\n      <th>2008</th>\n      <th>2009</th>\n      <th>2010</th>\n      <th>2011</th>\n      <th>2012</th>\n      <th>2013</th>\n      <th>2014</th>\n      <th>2015</th>\n    </tr>\n    <tr>\n      <th>Country Code</th>\n      <th></th>\n      <th></th>\n      <th></th>\n      <th></th>\n      <th></th>\n      <th></th>\n      <th></th>\n      <th></th>\n      <th></th>\n      <th></th>\n      <th></th>\n      <th></th>\n      <th></th>\n      <th></th>\n      <th></th>\n      <th></th>\n      <th></th>\n      <th></th>\n    </tr>\n  </thead>\n  <tbody>\n    <tr>\n      <th>ABW</th>\n      <td>Aruba</td>\n      <td>GDP per capita growth (annual %)</td>\n      <td>5.427608</td>\n      <td>-5.107188</td>\n      <td>-5.405878</td>\n      <td>-0.152951</td>\n      <td>6.031742</td>\n      <td>-0.094958</td>\n      <td>0.245883</td>\n      <td>1.410010</td>\n      <td>-0.224764</td>\n      <td>-10.605300</td>\n      <td>-3.887760</td>\n      <td>3.063882</td>\n      <td>-1.864168</td>\n      <td>3.593198</td>\n      <td>-0.294412</td>\n      <td>5.125616</td>\n    </tr>\n    <tr>\n      <th>AGO</th>\n      <td>Angola</td>\n      <td>GDP per capita growth (annual %)</td>\n      <td>-0.267945</td>\n      <td>0.822114</td>\n      <td>9.943764</td>\n      <td>-0.431851</td>\n      <td>7.187036</td>\n      <td>11.030836</td>\n      <td>7.582329</td>\n      <td>9.890012</td>\n      <td>7.116873</td>\n      <td>-2.808634</td>\n      <td>0.640294</td>\n      <td>-0.220851</td>\n      <td>4.706498</td>\n      <td>1.292041</td>\n      <td>1.219835</td>\n      <td>-2.468719</td>\n    </tr>\n    <tr>\n      <th>ALB</th>\n      <td>Albania</td>\n      <td>GDP per capita growth (annual %)</td>\n      <td>7.633866</td>\n      <td>9.311124</td>\n      <td>4.853922</td>\n      <td>5.925630</td>\n      <td>5.951881</td>\n      <td>6.071391</td>\n      <td>6.570332</td>\n      <td>6.783927</td>\n      <td>8.328036</td>\n      <td>4.048888</td>\n      <td>4.223038</td>\n      <td>2.821558</td>\n      <td>1.585156</td>\n      <td>1.187204</td>\n      <td>1.985426</td>\n      <td>2.516853</td>\n    </tr>\n    <tr>\n      <th>AND</th>\n      <td>Andorra</td>\n      <td>GDP per capita growth (annual %)</td>\n      <td>1.913452</td>\n      <td>4.986929</td>\n      <td>0.504741</td>\n      <td>4.040888</td>\n      <td>3.792889</td>\n      <td>1.892421</td>\n      <td>2.057546</td>\n      <td>-0.523712</td>\n      <td>-6.885786</td>\n      <td>-5.976668</td>\n      <td>-1.958707</td>\n      <td>0.830102</td>\n      <td>-3.452688</td>\n      <td>-1.573746</td>\n      <td>4.524456</td>\n      <td>2.997046</td>\n    </tr>\n    <tr>\n      <th>ARE</th>\n      <td>United Arab Emirates</td>\n      <td>GDP per capita growth (annual %)</td>\n      <td>4.909504</td>\n      <td>-3.778971</td>\n      <td>-2.750615</td>\n      <td>1.966528</td>\n      <td>-0.037811</td>\n      <td>-7.020584</td>\n      <td>-4.916643</td>\n      <td>-11.345504</td>\n      <td>-10.208775</td>\n      <td>-15.151256</td>\n      <td>-5.914810</td>\n      <td>2.187921</td>\n      <td>2.257926</td>\n      <td>4.410159</td>\n      <td>4.100219</td>\n      <td>4.553055</td>\n    </tr>\n  </tbody>\n</table>\n</div>"
     },
     "metadata": {},
     "execution_count": 284
    }
   ],
   "source": [
    "GDP_data.head()"
   ]
  },
  {
   "source": [
    "## Renewable Energy Cleaning"
   ],
   "cell_type": "markdown",
   "metadata": {}
  },
  {
   "cell_type": "code",
   "execution_count": 285,
   "metadata": {},
   "outputs": [],
   "source": [
    "# Loading raw Renewable Energy data and cleaning\n",
    "data = pd.read_csv('raw_data/Renewable_energy.csv')"
   ]
  },
  {
   "cell_type": "code",
   "execution_count": 286,
   "metadata": {},
   "outputs": [],
   "source": [
    "# Filtering to only columns to keep \n",
    "Organized_df = data[columns_to_keep]"
   ]
  },
  {
   "cell_type": "code",
   "execution_count": 287,
   "metadata": {},
   "outputs": [],
   "source": [
    "# Drop NANs\n",
    "Renewable_data = Organized_df.dropna()"
   ]
  },
  {
   "cell_type": "code",
   "execution_count": 288,
   "metadata": {},
   "outputs": [
    {
     "output_type": "stream",
     "name": "stderr",
     "text": [
      "C:\\Users\\eenab\\anaconda3\\lib\\site-packages\\pandas\\core\\frame.py:4125: SettingWithCopyWarning: \nA value is trying to be set on a copy of a slice from a DataFrame\n\nSee the caveats in the documentation: https://pandas.pydata.org/pandas-docs/stable/user_guide/indexing.html#returning-a-view-versus-a-copy\n  return super().rename(\n"
     ]
    }
   ],
   "source": [
    "# Renaming columns\n",
    "Renewable_data.rename(columns={\"country_name\":\"Country Name\",\"country_code\":\"Country Code\",\"indicator_name\":\"Indicator Name\"}, inplace = True)\n",
    "\n",
    "# Resetting index\n",
    "Renewable_data.set_index(\"Country Code\", inplace=True)"
   ]
  },
  {
   "cell_type": "code",
   "execution_count": 289,
   "metadata": {},
   "outputs": [],
   "source": [
    "# Dropping any indices that are non-countries ex. WLD is for the entire World CO2 emissions\n",
    "Renewable_data = Renewable_data.drop(index=[\"WLD\", \"IBT\", \"LMY\", \"MIC\", \"IBD\", \"EAP\", \"EAR\", \"EAS\", \"ECA\", \"ECS\", \"EMU\", \"FCS\", \"HIC\", \"HPC\", \"IDB\", \"IDA\", \"IDX\", \"LAC\", \"LIC\", \"LDC\", \"LCN\", \"LMC\", \"LMY\", \"LTE\", \"MEA\", \"MNA\", \"NAC\", \"OED\", \"OSS\", \"PRE\", \"PST\", \"SAS\", \"SSA\", \"SSF\", \"SST\", \"TEA\", \"TEC\", \"TLA\", \"TMN\", \"TSA\", \"TSS\", \"UMC\", \"EUU\", \"ARB\", \"CEB\"])"
   ]
  },
  {
   "cell_type": "code",
   "execution_count": 290,
   "metadata": {},
   "outputs": [
    {
     "output_type": "execute_result",
     "data": {
      "text/plain": [
       "             Country Name                                     Indicator Name  \\\n",
       "Country Code                                                                   \n",
       "ABW                 Aruba  Renewable energy consumption (% of total final...   \n",
       "AFG           Afghanistan  Renewable energy consumption (% of total final...   \n",
       "AGO                Angola  Renewable energy consumption (% of total final...   \n",
       "ALB               Albania  Renewable energy consumption (% of total final...   \n",
       "AND               Andorra  Renewable energy consumption (% of total final...   \n",
       "\n",
       "                   2000       2001       2002       2003       2004  \\\n",
       "Country Code                                                          \n",
       "ABW            0.175266   0.180523   0.181391   0.184550   0.187055   \n",
       "AFG           54.243126  54.055055  43.771149  42.276141  49.843148   \n",
       "AGO           74.618171  73.757859  72.125126  67.306117  65.493065   \n",
       "ALB           41.445416  39.125664  35.896294  33.752729  35.935868   \n",
       "AND           14.890664  15.773868  16.221819  16.912308  16.874428   \n",
       "\n",
       "                   2005       2006       2007       2008       2009  \\\n",
       "Country Code                                                          \n",
       "ABW            0.186599   0.189937   0.190059   0.193546   0.299774   \n",
       "AFG           40.859171  37.137249  33.862579  21.343708  17.813855   \n",
       "AGO           70.954202  65.022564  61.599704  58.107975  55.748977   \n",
       "ALB           36.869489  31.710195  32.100937  35.912906  37.216638   \n",
       "AND           16.902437  17.485994  16.940777  17.422741  17.515948   \n",
       "\n",
       "                   2010       2011       2012       2013       2014       2015  \n",
       "Country Code                                                                    \n",
       "ABW            5.464716   5.661788   6.855850   6.889753   6.927502   6.726748  \n",
       "AFG           14.839806  11.482706  13.973586  16.334293  19.314269  18.423477  \n",
       "AGO           54.193837  52.715679  52.245736  50.686116  50.797461  49.568210  \n",
       "ALB           37.115330  35.962532  40.048300  41.288974  38.689501  38.615210  \n",
       "AND           19.090730  18.971546  19.195529  19.563698  19.886323  19.747809  "
      ],
      "text/html": "<div>\n<style scoped>\n    .dataframe tbody tr th:only-of-type {\n        vertical-align: middle;\n    }\n\n    .dataframe tbody tr th {\n        vertical-align: top;\n    }\n\n    .dataframe thead th {\n        text-align: right;\n    }\n</style>\n<table border=\"1\" class=\"dataframe\">\n  <thead>\n    <tr style=\"text-align: right;\">\n      <th></th>\n      <th>Country Name</th>\n      <th>Indicator Name</th>\n      <th>2000</th>\n      <th>2001</th>\n      <th>2002</th>\n      <th>2003</th>\n      <th>2004</th>\n      <th>2005</th>\n      <th>2006</th>\n      <th>2007</th>\n      <th>2008</th>\n      <th>2009</th>\n      <th>2010</th>\n      <th>2011</th>\n      <th>2012</th>\n      <th>2013</th>\n      <th>2014</th>\n      <th>2015</th>\n    </tr>\n    <tr>\n      <th>Country Code</th>\n      <th></th>\n      <th></th>\n      <th></th>\n      <th></th>\n      <th></th>\n      <th></th>\n      <th></th>\n      <th></th>\n      <th></th>\n      <th></th>\n      <th></th>\n      <th></th>\n      <th></th>\n      <th></th>\n      <th></th>\n      <th></th>\n      <th></th>\n      <th></th>\n    </tr>\n  </thead>\n  <tbody>\n    <tr>\n      <th>ABW</th>\n      <td>Aruba</td>\n      <td>Renewable energy consumption (% of total final...</td>\n      <td>0.175266</td>\n      <td>0.180523</td>\n      <td>0.181391</td>\n      <td>0.184550</td>\n      <td>0.187055</td>\n      <td>0.186599</td>\n      <td>0.189937</td>\n      <td>0.190059</td>\n      <td>0.193546</td>\n      <td>0.299774</td>\n      <td>5.464716</td>\n      <td>5.661788</td>\n      <td>6.855850</td>\n      <td>6.889753</td>\n      <td>6.927502</td>\n      <td>6.726748</td>\n    </tr>\n    <tr>\n      <th>AFG</th>\n      <td>Afghanistan</td>\n      <td>Renewable energy consumption (% of total final...</td>\n      <td>54.243126</td>\n      <td>54.055055</td>\n      <td>43.771149</td>\n      <td>42.276141</td>\n      <td>49.843148</td>\n      <td>40.859171</td>\n      <td>37.137249</td>\n      <td>33.862579</td>\n      <td>21.343708</td>\n      <td>17.813855</td>\n      <td>14.839806</td>\n      <td>11.482706</td>\n      <td>13.973586</td>\n      <td>16.334293</td>\n      <td>19.314269</td>\n      <td>18.423477</td>\n    </tr>\n    <tr>\n      <th>AGO</th>\n      <td>Angola</td>\n      <td>Renewable energy consumption (% of total final...</td>\n      <td>74.618171</td>\n      <td>73.757859</td>\n      <td>72.125126</td>\n      <td>67.306117</td>\n      <td>65.493065</td>\n      <td>70.954202</td>\n      <td>65.022564</td>\n      <td>61.599704</td>\n      <td>58.107975</td>\n      <td>55.748977</td>\n      <td>54.193837</td>\n      <td>52.715679</td>\n      <td>52.245736</td>\n      <td>50.686116</td>\n      <td>50.797461</td>\n      <td>49.568210</td>\n    </tr>\n    <tr>\n      <th>ALB</th>\n      <td>Albania</td>\n      <td>Renewable energy consumption (% of total final...</td>\n      <td>41.445416</td>\n      <td>39.125664</td>\n      <td>35.896294</td>\n      <td>33.752729</td>\n      <td>35.935868</td>\n      <td>36.869489</td>\n      <td>31.710195</td>\n      <td>32.100937</td>\n      <td>35.912906</td>\n      <td>37.216638</td>\n      <td>37.115330</td>\n      <td>35.962532</td>\n      <td>40.048300</td>\n      <td>41.288974</td>\n      <td>38.689501</td>\n      <td>38.615210</td>\n    </tr>\n    <tr>\n      <th>AND</th>\n      <td>Andorra</td>\n      <td>Renewable energy consumption (% of total final...</td>\n      <td>14.890664</td>\n      <td>15.773868</td>\n      <td>16.221819</td>\n      <td>16.912308</td>\n      <td>16.874428</td>\n      <td>16.902437</td>\n      <td>17.485994</td>\n      <td>16.940777</td>\n      <td>17.422741</td>\n      <td>17.515948</td>\n      <td>19.090730</td>\n      <td>18.971546</td>\n      <td>19.195529</td>\n      <td>19.563698</td>\n      <td>19.886323</td>\n      <td>19.747809</td>\n    </tr>\n  </tbody>\n</table>\n</div>"
     },
     "metadata": {},
     "execution_count": 290
    }
   ],
   "source": [
    "Renewable_data.head(5)"
   ]
  },
  {
   "cell_type": "code",
   "execution_count": null,
   "metadata": {},
   "outputs": [],
   "source": []
  },
  {
   "source": [
    "## Exporting to clean CSVs"
   ],
   "cell_type": "markdown",
   "metadata": {}
  },
  {
   "cell_type": "code",
   "execution_count": 297,
   "metadata": {},
   "outputs": [],
   "source": [
    "CO2_data.to_csv(\"Cleaned_CO2.csv\", index=True)\n",
    "\n",
    "GDP_data.to_csv(\"Cleaned_GDP.csv\", index=True)\n",
    "\n",
    "Renewable_data.to_csv(\"Cleaned_renewable.csv\", index=True)\n"
   ]
  },
  {
   "cell_type": "code",
   "execution_count": 298,
   "metadata": {},
   "outputs": [
    {
     "output_type": "error",
     "ename": "NameError",
     "evalue": "name 'create_engine' is not defined",
     "traceback": [
      "\u001b[1;31m---------------------------------------------------------------------------\u001b[0m",
      "\u001b[1;31mNameError\u001b[0m                                 Traceback (most recent call last)",
      "\u001b[1;32m<ipython-input-298-bdbe02c1fb47>\u001b[0m in \u001b[0;36m<module>\u001b[1;34m\u001b[0m\n\u001b[0;32m      1\u001b[0m \u001b[0mconnection_string\u001b[0m \u001b[1;33m=\u001b[0m \u001b[1;34m\"postgres:270504@localhost:5432/climate_change_db\"\u001b[0m\u001b[1;33m\u001b[0m\u001b[1;33m\u001b[0m\u001b[0m\n\u001b[1;32m----> 2\u001b[1;33m \u001b[0mengine\u001b[0m \u001b[1;33m=\u001b[0m \u001b[0mcreate_engine\u001b[0m\u001b[1;33m(\u001b[0m\u001b[1;34mf'postgresql://{connection_string}'\u001b[0m\u001b[1;33m)\u001b[0m\u001b[1;33m\u001b[0m\u001b[1;33m\u001b[0m\u001b[0m\n\u001b[0m",
      "\u001b[1;31mNameError\u001b[0m: name 'create_engine' is not defined"
     ]
    }
   ],
   "source": [
    "connection_string = \"postgres:270504@localhost:5432/climate_change_db\"\n",
    "engine = create_engine(f'postgresql://{connection_string}')"
   ]
  },
  {
   "cell_type": "code",
   "execution_count": null,
   "metadata": {},
   "outputs": [],
   "source": [
    "engine.table_names()"
   ]
  },
  {
   "cell_type": "code",
   "execution_count": null,
   "metadata": {},
   "outputs": [],
   "source": [
    "CO2_data.to_sql(name='carbon_dioxide', con=engine, if_exists='append', index=False)\n",
    "GDP_data.to_sql(name='gdp', con=engine, if_exists='append', index=False)\n",
    "Renewable_data.to_sql(name='urban_population', con=engine, if_exists='append', index=False)\n",
    "Urban_data.to_sql(name='renewable_energy', con=engine, if_exists='append', index=False)"
   ]
  },
  {
   "cell_type": "code",
   "execution_count": null,
   "metadata": {},
   "outputs": [],
   "source": []
  }
 ],
 "metadata": {
  "kernelspec": {
   "display_name": "Python 3",
   "language": "python",
   "name": "python3"
  },
  "language_info": {
   "codemirror_mode": {
    "name": "ipython",
    "version": 3
   },
   "file_extension": ".py",
   "mimetype": "text/x-python",
   "name": "python",
   "nbconvert_exporter": "python",
   "pygments_lexer": "ipython3",
   "version": "3.8.5-final"
  }
 },
 "nbformat": 4,
 "nbformat_minor": 4
}