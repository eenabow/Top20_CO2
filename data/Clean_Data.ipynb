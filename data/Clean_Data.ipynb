{
 "cells": [
  {
   "cell_type": "code",
   "execution_count": 13,
   "metadata": {},
   "outputs": [],
   "source": [
    "# Dependencies and Setup\n",
    "import pandas as pd\n",
    "import numpy as np\n",
    "import requests"
   ]
  },
  {
   "source": [
    "## World Bank Data Cleaning"
   ],
   "cell_type": "markdown",
   "metadata": {}
  },
  {
   "cell_type": "code",
   "execution_count": 14,
   "metadata": {},
   "outputs": [],
   "source": [
    "# Storing columns to keep in a list to re-iterate over multiple csv's\n",
    "columns_to_keep = [\"Country Name\", \"Country Code\", \"Indicator Name\", \"2000\", \"2001\", \"2002\", \"2003\", \"2004\", \"2005\", \"2006\", \"2007\", \"2008\", \"2009\", \"2010\", \"2011\", \"2012\", \"2013\", \"2014\", \"2015\"]\n",
    "\n",
    "rows_to_remove = [\"ARB\", \"CEB\", \"EUU\", \"EAP\", \"EAR\", \"EAS\", \"ECA\", \"ECS\", \"EMU\", \"FCS\", \"HIC\", \"HPC\", \"IBT\", \"IBD\", \"IDB\", \"IDA\", \"IDX\", \"INX\", \"LAC\", \"LIC\", \"LDC\", \"LCN\", \"LMC\", \"LMY\", \"LTE\",\"LMY\", \"MIC\", \"MEA\", \"MNA\", \"NAC\", \"OED\", \"OSS\", \"PRE\", \"PST\", \"SAS\", \"SSA\", \"SSF\", \"SST\", \"TEA\", \"TEC\", \"TLA\", \"TMN\", \"TSA\", \"TSS\", \"UMC\"]"
   ]
  },
  {
   "cell_type": "code",
   "execution_count": 15,
   "metadata": {},
   "outputs": [
    {
     "output_type": "execute_result",
     "data": {
      "text/plain": [
       "45"
      ]
     },
     "metadata": {},
     "execution_count": 15
    }
   ],
   "source": [
    "# Final length of list should be 265 - len(rows_to_remove)\n",
    "len(rows_to_remove)"
   ]
  },
  {
   "cell_type": "code",
   "execution_count": 16,
   "metadata": {},
   "outputs": [],
   "source": [
    "# Loading raw world bank data and adding to a list\n",
    "CO2_data = pd.read_csv('raw_data/CO2emissions_data.csv', error_bad_lines=False)\n",
    "\n",
    "GDP_data = pd.read_csv('raw_data/GDPpercapita-data.csv', error_bad_lines=False)\n",
    "\n",
    "Renewable_data = pd.read_csv('raw_data/Renewable_energy.csv', error_bad_lines=False)\n",
    "\n",
    "csv_list = []\n",
    "\n",
    "csv_list = [CO2_data, GDP_data, Renewable_data]"
   ]
  },
  {
   "cell_type": "code",
   "execution_count": 17,
   "metadata": {},
   "outputs": [],
   "source": [
    "#Loop through each world bank csv and clean at the same time \n",
    "for csv in csv_list:\n",
    "\n",
    "    # Filtering to only columns to keep \n",
    "    csv.drop(columns=[col for col in csv if col not in columns_to_keep], inplace=True)\n",
    "\n",
    "    # Rename columns \n",
    "    csv.rename(columns={\"country_name\":\"Country Name\",\"country_code\":\"Country Code\",\"indicator_name\":\"Indicator Name\"}, inplace = True)\n",
    "\n",
    "    # Set Country code as the index \n",
    "    csv.set_index(\"Country Code\", inplace=True)\n",
    "    \n",
    "    # Drop any indices that are non-countries ex. MIC is for the all Middle Income countr CO2 emissions\n",
    "    csv.drop(index=[\"ARB\", \"CEB\", \"EUU\", \"EAP\", \"EAR\", \"EAS\", \"ECA\", \"ECS\", \"EMU\", \"FCS\", \"HIC\", \"HPC\", \"IBT\", \"IBD\", \"IDB\", \"IDA\", \"IDX\", \"INX\", \"LAC\", \"LIC\", \"LDC\", \"LCN\", \"LMC\", \"LMY\", \"LTE\",\"LMY\", \"MIC\", \"MEA\", \"MNA\", \"NAC\", \"OED\", \"OSS\", \"PRE\", \"PST\", \"SAS\", \"SSA\", \"SSF\", \"SST\", \"TEA\", \"TEC\", \"TLA\", \"TMN\", \"TSA\", \"TSS\", \"UMC\"], inplace=True)"
   ]
  },
  {
   "cell_type": "code",
   "execution_count": 18,
   "metadata": {},
   "outputs": [
    {
     "output_type": "execute_result",
     "data": {
      "text/plain": [
       "             Country Name                    Indicator Name      2000  \\\n",
       "Country Code                                                            \n",
       "ABW                 Aruba  GDP per capita growth (annual %)  5.427608   \n",
       "AFG           Afghanistan  GDP per capita growth (annual %)       NaN   \n",
       "AGO                Angola  GDP per capita growth (annual %) -0.267945   \n",
       "ALB               Albania  GDP per capita growth (annual %)  7.633866   \n",
       "AND               Andorra  GDP per capita growth (annual %)  1.913452   \n",
       "\n",
       "                  2001      2002      2003      2004       2005      2006  \\\n",
       "Country Code                                                                \n",
       "ABW          -5.107188 -5.405878 -0.152951  6.031742  -0.094958  0.245883   \n",
       "AFG                NaN       NaN  3.868362 -2.875184   7.207933  2.253357   \n",
       "AGO           0.822114  9.943764 -0.431851  7.187036  11.030836  7.582329   \n",
       "ALB           9.311124  4.853922  5.925630  5.951881   6.071391  6.570332   \n",
       "AND           4.986929  0.504741  4.040888  3.792889   1.892421  2.057546   \n",
       "\n",
       "                   2007      2008       2009       2010      2011      2012  \\\n",
       "Country Code                                                                  \n",
       "ABW            1.410010 -0.224764 -10.605300  -3.887760  3.063882 -1.864168   \n",
       "AFG           11.022774  1.594211  18.515369  11.264133 -2.681081  8.974880   \n",
       "AGO            9.890012  7.116873  -2.808634   0.640294 -0.220851  4.706498   \n",
       "ALB            6.783927  8.328036   4.048888   4.223038  2.821558  1.585156   \n",
       "AND           -0.523712 -6.885786  -5.976668  -1.958707  0.830102 -3.452688   \n",
       "\n",
       "                  2013      2014      2015  \n",
       "Country Code                                \n",
       "ABW           3.593198 -0.294412  5.125616  \n",
       "AFG           1.974169 -0.665271 -1.622887  \n",
       "AGO           1.292041  1.219835 -2.468719  \n",
       "ALB           1.187204  1.985426  2.516853  \n",
       "AND          -1.573746  4.524456  2.997046  "
      ],
      "text/html": "<div>\n<style scoped>\n    .dataframe tbody tr th:only-of-type {\n        vertical-align: middle;\n    }\n\n    .dataframe tbody tr th {\n        vertical-align: top;\n    }\n\n    .dataframe thead th {\n        text-align: right;\n    }\n</style>\n<table border=\"1\" class=\"dataframe\">\n  <thead>\n    <tr style=\"text-align: right;\">\n      <th></th>\n      <th>Country Name</th>\n      <th>Indicator Name</th>\n      <th>2000</th>\n      <th>2001</th>\n      <th>2002</th>\n      <th>2003</th>\n      <th>2004</th>\n      <th>2005</th>\n      <th>2006</th>\n      <th>2007</th>\n      <th>2008</th>\n      <th>2009</th>\n      <th>2010</th>\n      <th>2011</th>\n      <th>2012</th>\n      <th>2013</th>\n      <th>2014</th>\n      <th>2015</th>\n    </tr>\n    <tr>\n      <th>Country Code</th>\n      <th></th>\n      <th></th>\n      <th></th>\n      <th></th>\n      <th></th>\n      <th></th>\n      <th></th>\n      <th></th>\n      <th></th>\n      <th></th>\n      <th></th>\n      <th></th>\n      <th></th>\n      <th></th>\n      <th></th>\n      <th></th>\n      <th></th>\n      <th></th>\n    </tr>\n  </thead>\n  <tbody>\n    <tr>\n      <th>ABW</th>\n      <td>Aruba</td>\n      <td>GDP per capita growth (annual %)</td>\n      <td>5.427608</td>\n      <td>-5.107188</td>\n      <td>-5.405878</td>\n      <td>-0.152951</td>\n      <td>6.031742</td>\n      <td>-0.094958</td>\n      <td>0.245883</td>\n      <td>1.410010</td>\n      <td>-0.224764</td>\n      <td>-10.605300</td>\n      <td>-3.887760</td>\n      <td>3.063882</td>\n      <td>-1.864168</td>\n      <td>3.593198</td>\n      <td>-0.294412</td>\n      <td>5.125616</td>\n    </tr>\n    <tr>\n      <th>AFG</th>\n      <td>Afghanistan</td>\n      <td>GDP per capita growth (annual %)</td>\n      <td>NaN</td>\n      <td>NaN</td>\n      <td>NaN</td>\n      <td>3.868362</td>\n      <td>-2.875184</td>\n      <td>7.207933</td>\n      <td>2.253357</td>\n      <td>11.022774</td>\n      <td>1.594211</td>\n      <td>18.515369</td>\n      <td>11.264133</td>\n      <td>-2.681081</td>\n      <td>8.974880</td>\n      <td>1.974169</td>\n      <td>-0.665271</td>\n      <td>-1.622887</td>\n    </tr>\n    <tr>\n      <th>AGO</th>\n      <td>Angola</td>\n      <td>GDP per capita growth (annual %)</td>\n      <td>-0.267945</td>\n      <td>0.822114</td>\n      <td>9.943764</td>\n      <td>-0.431851</td>\n      <td>7.187036</td>\n      <td>11.030836</td>\n      <td>7.582329</td>\n      <td>9.890012</td>\n      <td>7.116873</td>\n      <td>-2.808634</td>\n      <td>0.640294</td>\n      <td>-0.220851</td>\n      <td>4.706498</td>\n      <td>1.292041</td>\n      <td>1.219835</td>\n      <td>-2.468719</td>\n    </tr>\n    <tr>\n      <th>ALB</th>\n      <td>Albania</td>\n      <td>GDP per capita growth (annual %)</td>\n      <td>7.633866</td>\n      <td>9.311124</td>\n      <td>4.853922</td>\n      <td>5.925630</td>\n      <td>5.951881</td>\n      <td>6.071391</td>\n      <td>6.570332</td>\n      <td>6.783927</td>\n      <td>8.328036</td>\n      <td>4.048888</td>\n      <td>4.223038</td>\n      <td>2.821558</td>\n      <td>1.585156</td>\n      <td>1.187204</td>\n      <td>1.985426</td>\n      <td>2.516853</td>\n    </tr>\n    <tr>\n      <th>AND</th>\n      <td>Andorra</td>\n      <td>GDP per capita growth (annual %)</td>\n      <td>1.913452</td>\n      <td>4.986929</td>\n      <td>0.504741</td>\n      <td>4.040888</td>\n      <td>3.792889</td>\n      <td>1.892421</td>\n      <td>2.057546</td>\n      <td>-0.523712</td>\n      <td>-6.885786</td>\n      <td>-5.976668</td>\n      <td>-1.958707</td>\n      <td>0.830102</td>\n      <td>-3.452688</td>\n      <td>-1.573746</td>\n      <td>4.524456</td>\n      <td>2.997046</td>\n    </tr>\n  </tbody>\n</table>\n</div>"
     },
     "metadata": {},
     "execution_count": 18
    }
   ],
   "source": [
    "#Checking to confirm cleaning is correct\n",
    "GDP_data.head(5)"
   ]
  },
  {
   "source": [
    "## Manipulating Cleaned World Bank Data \n"
   ],
   "cell_type": "markdown",
   "metadata": {}
  },
  {
   "cell_type": "code",
   "execution_count": 19,
   "metadata": {},
   "outputs": [
    {
     "output_type": "execute_result",
     "data": {
      "text/plain": [
       "Country Name                   World\n",
       "Indicator Name    CO2 emissions (kt)\n",
       "2000                 23918172.187422\n",
       "2001                 24101535.279574\n",
       "2002                 24634020.255788\n",
       "2003                 25893535.033145\n",
       "2004                 27106644.134534\n",
       "2005                 28043870.884737\n",
       "2006                 29021469.960864\n",
       "2007                 29513157.394651\n",
       "2008                 30680656.021326\n",
       "2009                 29915812.396866\n",
       "2010                 31927784.123311\n",
       "2011                 33090763.411553\n",
       "2012                 33683606.846031\n",
       "2013                 33848272.799064\n",
       "2014                 34103192.880726\n",
       "2015                 34040671.314996\n",
       "Name: WLD, dtype: object"
      ]
     },
     "metadata": {},
     "execution_count": 19
    }
   ],
   "source": [
    "# Slice out World CO2 emissions \n",
    "world_CO2= CO2_data.loc[\"WLD\"]\n",
    "\n",
    "world_CO2"
   ]
  },
  {
   "cell_type": "code",
   "execution_count": 20,
   "metadata": {},
   "outputs": [
    {
     "output_type": "execute_result",
     "data": {
      "text/plain": [
       "             Country Name      Indicator Name         2000         2001  \\\n",
       "Country Code                                                              \n",
       "AUS             Australia  CO2 emissions (kt)   329443.280   324844.862   \n",
       "BRA                Brazil  CO2 emissions (kt)   327983.814   337433.673   \n",
       "CAN                Canada  CO2 emissions (kt)   534380.909   527926.989   \n",
       "CHN                 China  CO2 emissions (kt)  3405179.867  3487566.356   \n",
       "DEU               Germany  CO2 emissions (kt)   829977.779   853662.932   \n",
       "\n",
       "                     2002         2003         2004         2005         2006  \\\n",
       "Country Code                                                                    \n",
       "AUS            341353.696   336271.234   342699.485   350172.831   365346.877   \n",
       "BRA            332266.870   321621.569   337826.042   347308.904   347668.270   \n",
       "CAN            519335.208   553100.944   553357.634   561425.034   571993.328   \n",
       "CHN           3850269.326  4540417.061  5233538.733  5896957.705  6529291.518   \n",
       "DEU            829724.756   823003.145   815969.839   797759.517   816721.574   \n",
       "\n",
       "                     2007         2008         2009         2010         2011  \\\n",
       "Country Code                                                                    \n",
       "AUS            372090.490   385904.079   394792.887   390861.863   391818.950   \n",
       "BRA            363212.683   387631.236   367147.374   419754.156   439412.943   \n",
       "CAN            571846.648   561791.734   532191.710   527263.262   522774.854   \n",
       "CHN           6697654.489  7553070.247  7557789.676  8776040.416  9733538.120   \n",
       "DEU            781247.016   779296.172   720547.165   757880.892   729810.007   \n",
       "\n",
       "                      2012          2013          2014          2015  \n",
       "Country Code                                                          \n",
       "AUS           3.881263e+05  3.723178e+05  3.613168e+05  3.653322e+05  \n",
       "BRA           4.700287e+05  5.036771e+05  5.335302e+05  5.043885e+05  \n",
       "CAN           5.177217e+05  5.191885e+05  5.406148e+05  5.494303e+05  \n",
       "CHN           1.002857e+07  1.025801e+07  1.029193e+07  1.014500e+07  \n",
       "DEU           7.381414e+05  7.579616e+05  7.203638e+05  7.270451e+05  "
      ],
      "text/html": "<div>\n<style scoped>\n    .dataframe tbody tr th:only-of-type {\n        vertical-align: middle;\n    }\n\n    .dataframe tbody tr th {\n        vertical-align: top;\n    }\n\n    .dataframe thead th {\n        text-align: right;\n    }\n</style>\n<table border=\"1\" class=\"dataframe\">\n  <thead>\n    <tr style=\"text-align: right;\">\n      <th></th>\n      <th>Country Name</th>\n      <th>Indicator Name</th>\n      <th>2000</th>\n      <th>2001</th>\n      <th>2002</th>\n      <th>2003</th>\n      <th>2004</th>\n      <th>2005</th>\n      <th>2006</th>\n      <th>2007</th>\n      <th>2008</th>\n      <th>2009</th>\n      <th>2010</th>\n      <th>2011</th>\n      <th>2012</th>\n      <th>2013</th>\n      <th>2014</th>\n      <th>2015</th>\n    </tr>\n    <tr>\n      <th>Country Code</th>\n      <th></th>\n      <th></th>\n      <th></th>\n      <th></th>\n      <th></th>\n      <th></th>\n      <th></th>\n      <th></th>\n      <th></th>\n      <th></th>\n      <th></th>\n      <th></th>\n      <th></th>\n      <th></th>\n      <th></th>\n      <th></th>\n      <th></th>\n      <th></th>\n    </tr>\n  </thead>\n  <tbody>\n    <tr>\n      <th>AUS</th>\n      <td>Australia</td>\n      <td>CO2 emissions (kt)</td>\n      <td>329443.280</td>\n      <td>324844.862</td>\n      <td>341353.696</td>\n      <td>336271.234</td>\n      <td>342699.485</td>\n      <td>350172.831</td>\n      <td>365346.877</td>\n      <td>372090.490</td>\n      <td>385904.079</td>\n      <td>394792.887</td>\n      <td>390861.863</td>\n      <td>391818.950</td>\n      <td>3.881263e+05</td>\n      <td>3.723178e+05</td>\n      <td>3.613168e+05</td>\n      <td>3.653322e+05</td>\n    </tr>\n    <tr>\n      <th>BRA</th>\n      <td>Brazil</td>\n      <td>CO2 emissions (kt)</td>\n      <td>327983.814</td>\n      <td>337433.673</td>\n      <td>332266.870</td>\n      <td>321621.569</td>\n      <td>337826.042</td>\n      <td>347308.904</td>\n      <td>347668.270</td>\n      <td>363212.683</td>\n      <td>387631.236</td>\n      <td>367147.374</td>\n      <td>419754.156</td>\n      <td>439412.943</td>\n      <td>4.700287e+05</td>\n      <td>5.036771e+05</td>\n      <td>5.335302e+05</td>\n      <td>5.043885e+05</td>\n    </tr>\n    <tr>\n      <th>CAN</th>\n      <td>Canada</td>\n      <td>CO2 emissions (kt)</td>\n      <td>534380.909</td>\n      <td>527926.989</td>\n      <td>519335.208</td>\n      <td>553100.944</td>\n      <td>553357.634</td>\n      <td>561425.034</td>\n      <td>571993.328</td>\n      <td>571846.648</td>\n      <td>561791.734</td>\n      <td>532191.710</td>\n      <td>527263.262</td>\n      <td>522774.854</td>\n      <td>5.177217e+05</td>\n      <td>5.191885e+05</td>\n      <td>5.406148e+05</td>\n      <td>5.494303e+05</td>\n    </tr>\n    <tr>\n      <th>CHN</th>\n      <td>China</td>\n      <td>CO2 emissions (kt)</td>\n      <td>3405179.867</td>\n      <td>3487566.356</td>\n      <td>3850269.326</td>\n      <td>4540417.061</td>\n      <td>5233538.733</td>\n      <td>5896957.705</td>\n      <td>6529291.518</td>\n      <td>6697654.489</td>\n      <td>7553070.247</td>\n      <td>7557789.676</td>\n      <td>8776040.416</td>\n      <td>9733538.120</td>\n      <td>1.002857e+07</td>\n      <td>1.025801e+07</td>\n      <td>1.029193e+07</td>\n      <td>1.014500e+07</td>\n    </tr>\n    <tr>\n      <th>DEU</th>\n      <td>Germany</td>\n      <td>CO2 emissions (kt)</td>\n      <td>829977.779</td>\n      <td>853662.932</td>\n      <td>829724.756</td>\n      <td>823003.145</td>\n      <td>815969.839</td>\n      <td>797759.517</td>\n      <td>816721.574</td>\n      <td>781247.016</td>\n      <td>779296.172</td>\n      <td>720547.165</td>\n      <td>757880.892</td>\n      <td>729810.007</td>\n      <td>7.381414e+05</td>\n      <td>7.579616e+05</td>\n      <td>7.203638e+05</td>\n      <td>7.270451e+05</td>\n    </tr>\n  </tbody>\n</table>\n</div>"
     },
     "metadata": {},
     "execution_count": 20
    }
   ],
   "source": [
    "# Drop World emissions\n",
    "CO2_data.drop(index=[\"WLD\"], inplace=True)\n",
    "\n",
    "# Slice top 20 countries with highest CO2 emissions\n",
    "top20_CO2df = CO2_data.nlargest(20, '2015')\n",
    "\n",
    "# Sort Country Names alphabetically \n",
    "top20_CO2df.sort_values(\"Country Name\", inplace= True)\n",
    "\n",
    "top20_CO2df.head(5)"
   ]
  },
  {
   "cell_type": "code",
   "execution_count": 21,
   "metadata": {},
   "outputs": [
    {
     "output_type": "error",
     "ename": "KeyError",
     "evalue": "'Country Code'",
     "traceback": [
      "\u001b[1;31m---------------------------------------------------------------------------\u001b[0m",
      "\u001b[1;31mKeyError\u001b[0m                                  Traceback (most recent call last)",
      "\u001b[1;32mC:\\Python39\\lib\\site-packages\\pandas\\core\\indexes\\base.py\u001b[0m in \u001b[0;36mget_loc\u001b[1;34m(self, key, method, tolerance)\u001b[0m\n\u001b[0;32m   3079\u001b[0m             \u001b[1;32mtry\u001b[0m\u001b[1;33m:\u001b[0m\u001b[1;33m\u001b[0m\u001b[1;33m\u001b[0m\u001b[0m\n\u001b[1;32m-> 3080\u001b[1;33m                 \u001b[1;32mreturn\u001b[0m \u001b[0mself\u001b[0m\u001b[1;33m.\u001b[0m\u001b[0m_engine\u001b[0m\u001b[1;33m.\u001b[0m\u001b[0mget_loc\u001b[0m\u001b[1;33m(\u001b[0m\u001b[0mcasted_key\u001b[0m\u001b[1;33m)\u001b[0m\u001b[1;33m\u001b[0m\u001b[1;33m\u001b[0m\u001b[0m\n\u001b[0m\u001b[0;32m   3081\u001b[0m             \u001b[1;32mexcept\u001b[0m \u001b[0mKeyError\u001b[0m \u001b[1;32mas\u001b[0m \u001b[0merr\u001b[0m\u001b[1;33m:\u001b[0m\u001b[1;33m\u001b[0m\u001b[1;33m\u001b[0m\u001b[0m\n",
      "\u001b[1;32mpandas\\_libs\\index.pyx\u001b[0m in \u001b[0;36mpandas._libs.index.IndexEngine.get_loc\u001b[1;34m()\u001b[0m\n",
      "\u001b[1;32mpandas\\_libs\\index.pyx\u001b[0m in \u001b[0;36mpandas._libs.index.IndexEngine.get_loc\u001b[1;34m()\u001b[0m\n",
      "\u001b[1;32mpandas\\_libs\\hashtable_class_helper.pxi\u001b[0m in \u001b[0;36mpandas._libs.hashtable.PyObjectHashTable.get_item\u001b[1;34m()\u001b[0m\n",
      "\u001b[1;32mpandas\\_libs\\hashtable_class_helper.pxi\u001b[0m in \u001b[0;36mpandas._libs.hashtable.PyObjectHashTable.get_item\u001b[1;34m()\u001b[0m\n",
      "\u001b[1;31mKeyError\u001b[0m: 'Country Code'",
      "\nThe above exception was the direct cause of the following exception:\n",
      "\u001b[1;31mKeyError\u001b[0m                                  Traceback (most recent call last)",
      "\u001b[1;32m<ipython-input-21-ceabce4540d2>\u001b[0m in \u001b[0;36m<module>\u001b[1;34m\u001b[0m\n\u001b[0;32m      1\u001b[0m \u001b[1;31m# Store Top 20 country codes in a list\u001b[0m\u001b[1;33m\u001b[0m\u001b[1;33m\u001b[0m\u001b[1;33m\u001b[0m\u001b[0m\n\u001b[1;32m----> 2\u001b[1;33m \u001b[0mtop20_countrynames_list\u001b[0m \u001b[1;33m=\u001b[0m \u001b[0mtop20_CO2df\u001b[0m\u001b[1;33m[\u001b[0m\u001b[1;34m\"Country Code\"\u001b[0m\u001b[1;33m]\u001b[0m\u001b[1;33m\u001b[0m\u001b[1;33m\u001b[0m\u001b[0m\n\u001b[0m\u001b[0;32m      3\u001b[0m \u001b[0mtop20_countrycodes_list\u001b[0m\u001b[1;33m\u001b[0m\u001b[1;33m\u001b[0m\u001b[0m\n",
      "\u001b[1;32mC:\\Python39\\lib\\site-packages\\pandas\\core\\frame.py\u001b[0m in \u001b[0;36m__getitem__\u001b[1;34m(self, key)\u001b[0m\n\u001b[0;32m   3022\u001b[0m             \u001b[1;32mif\u001b[0m \u001b[0mself\u001b[0m\u001b[1;33m.\u001b[0m\u001b[0mcolumns\u001b[0m\u001b[1;33m.\u001b[0m\u001b[0mnlevels\u001b[0m \u001b[1;33m>\u001b[0m \u001b[1;36m1\u001b[0m\u001b[1;33m:\u001b[0m\u001b[1;33m\u001b[0m\u001b[1;33m\u001b[0m\u001b[0m\n\u001b[0;32m   3023\u001b[0m                 \u001b[1;32mreturn\u001b[0m \u001b[0mself\u001b[0m\u001b[1;33m.\u001b[0m\u001b[0m_getitem_multilevel\u001b[0m\u001b[1;33m(\u001b[0m\u001b[0mkey\u001b[0m\u001b[1;33m)\u001b[0m\u001b[1;33m\u001b[0m\u001b[1;33m\u001b[0m\u001b[0m\n\u001b[1;32m-> 3024\u001b[1;33m             \u001b[0mindexer\u001b[0m \u001b[1;33m=\u001b[0m \u001b[0mself\u001b[0m\u001b[1;33m.\u001b[0m\u001b[0mcolumns\u001b[0m\u001b[1;33m.\u001b[0m\u001b[0mget_loc\u001b[0m\u001b[1;33m(\u001b[0m\u001b[0mkey\u001b[0m\u001b[1;33m)\u001b[0m\u001b[1;33m\u001b[0m\u001b[1;33m\u001b[0m\u001b[0m\n\u001b[0m\u001b[0;32m   3025\u001b[0m             \u001b[1;32mif\u001b[0m \u001b[0mis_integer\u001b[0m\u001b[1;33m(\u001b[0m\u001b[0mindexer\u001b[0m\u001b[1;33m)\u001b[0m\u001b[1;33m:\u001b[0m\u001b[1;33m\u001b[0m\u001b[1;33m\u001b[0m\u001b[0m\n\u001b[0;32m   3026\u001b[0m                 \u001b[0mindexer\u001b[0m \u001b[1;33m=\u001b[0m \u001b[1;33m[\u001b[0m\u001b[0mindexer\u001b[0m\u001b[1;33m]\u001b[0m\u001b[1;33m\u001b[0m\u001b[1;33m\u001b[0m\u001b[0m\n",
      "\u001b[1;32mC:\\Python39\\lib\\site-packages\\pandas\\core\\indexes\\base.py\u001b[0m in \u001b[0;36mget_loc\u001b[1;34m(self, key, method, tolerance)\u001b[0m\n\u001b[0;32m   3080\u001b[0m                 \u001b[1;32mreturn\u001b[0m \u001b[0mself\u001b[0m\u001b[1;33m.\u001b[0m\u001b[0m_engine\u001b[0m\u001b[1;33m.\u001b[0m\u001b[0mget_loc\u001b[0m\u001b[1;33m(\u001b[0m\u001b[0mcasted_key\u001b[0m\u001b[1;33m)\u001b[0m\u001b[1;33m\u001b[0m\u001b[1;33m\u001b[0m\u001b[0m\n\u001b[0;32m   3081\u001b[0m             \u001b[1;32mexcept\u001b[0m \u001b[0mKeyError\u001b[0m \u001b[1;32mas\u001b[0m \u001b[0merr\u001b[0m\u001b[1;33m:\u001b[0m\u001b[1;33m\u001b[0m\u001b[1;33m\u001b[0m\u001b[0m\n\u001b[1;32m-> 3082\u001b[1;33m                 \u001b[1;32mraise\u001b[0m \u001b[0mKeyError\u001b[0m\u001b[1;33m(\u001b[0m\u001b[0mkey\u001b[0m\u001b[1;33m)\u001b[0m \u001b[1;32mfrom\u001b[0m \u001b[0merr\u001b[0m\u001b[1;33m\u001b[0m\u001b[1;33m\u001b[0m\u001b[0m\n\u001b[0m\u001b[0;32m   3083\u001b[0m \u001b[1;33m\u001b[0m\u001b[0m\n\u001b[0;32m   3084\u001b[0m         \u001b[1;32mif\u001b[0m \u001b[0mtolerance\u001b[0m \u001b[1;32mis\u001b[0m \u001b[1;32mnot\u001b[0m \u001b[1;32mNone\u001b[0m\u001b[1;33m:\u001b[0m\u001b[1;33m\u001b[0m\u001b[1;33m\u001b[0m\u001b[0m\n",
      "\u001b[1;31mKeyError\u001b[0m: 'Country Code'"
     ]
    }
   ],
   "source": [
    "# Store Top 20 country codes in a list \n",
    "top20_countrynames_list = top20_CO2df[\"Country Code\"]\n",
    "top20_countrycodes_list"
   ]
  },
  {
   "cell_type": "code",
   "execution_count": null,
   "metadata": {},
   "outputs": [],
   "source": [
    "# Store Top 20 Countries-GDP chart \n",
    "top20_GDP= GDP_data.loc[top20_countrycodes_list]\n",
    "top20_GDP.sort_values(\"Country Name\", inplace= True)\n",
    "len(top20_GDP)"
   ]
  },
  {
   "cell_type": "code",
   "execution_count": null,
   "metadata": {},
   "outputs": [],
   "source": [
    "# Store Top 20 Countries-Renewable Energy chart \n",
    "top20_Renewable= Renewable_data.loc[top20_countrycodes_list]\n",
    "top20_Renewable.sort_values(\"Country Name\", inplace= True)\n",
    "len(top20_Renewable)"
   ]
  },
  {
   "cell_type": "code",
   "execution_count": null,
   "metadata": {},
   "outputs": [],
   "source": []
  },
  {
   "source": [
    "## Exporting to clean CSVs"
   ],
   "cell_type": "markdown",
   "metadata": {}
  },
  {
   "cell_type": "code",
   "execution_count": null,
   "metadata": {},
   "outputs": [],
   "source": [
    "top20_CO2df.to_csv(\"top20_CO2df.csv\", index=True)\n",
    "\n",
    "CO2_data.to_csv(\"CO2_data.csv\", index=True)\n",
    "\n",
    "top20_GDP.to_csv(\"top20_GDP.csv\", index=True)\n",
    "\n",
    "GDP_data.to_csv(\"GDP_data.csv\", index=True)\n",
    "\n",
    "top20_Renewable.to_csv(\"top20_Renewable.csv\", index=True)\n",
    "\n",
    "Renewable_data.to_csv(\"Renewable_data.csv\", index=True)\n",
    "\n",
    "world_CO2.to_csv(\"top20_Renewable.csv\", index=True)\n",
    "\n",
    "top20_countrynames_list.to_csv(\"top20_countrynames_list.csv\", index=True)\n",
    "\n",
    "top20_countrycodes_list.to_csv(\"top20_countrycodes_list.csv\", index=True)"
   ]
  },
  {
   "cell_type": "code",
   "execution_count": null,
   "metadata": {},
   "outputs": [],
   "source": []
  },
  {
   "cell_type": "code",
   "execution_count": null,
   "metadata": {},
   "outputs": [],
   "source": []
  },
  {
   "cell_type": "code",
   "execution_count": null,
   "metadata": {},
   "outputs": [],
   "source": []
  },
  {
   "cell_type": "code",
   "execution_count": null,
   "metadata": {},
   "outputs": [],
   "source": []
  }
 ],
 "metadata": {
  "kernelspec": {
   "name": "python392jvsc74a57bd063fd5069d213b44bf678585dea6b12cceca9941eaf7f819626cde1f2670de90d",
   "display_name": "Python 3.9.2 64-bit"
  },
  "language_info": {
   "codemirror_mode": {
    "name": "ipython",
    "version": 3
   },
   "file_extension": ".py",
   "mimetype": "text/x-python",
   "name": "python",
   "nbconvert_exporter": "python",
   "pygments_lexer": "ipython3",
   "version": "3.9.2-final"
  },
  "metadata": {
   "interpreter": {
    "hash": "63fd5069d213b44bf678585dea6b12cceca9941eaf7f819626cde1f2670de90d"
   }
  }
 },
 "nbformat": 4,
 "nbformat_minor": 4
}