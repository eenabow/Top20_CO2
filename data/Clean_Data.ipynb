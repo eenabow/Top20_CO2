{
 "cells": [
  {
   "cell_type": "code",
   "execution_count": 1,
   "metadata": {},
   "outputs": [],
   "source": [
    "# Dependencies and Setup\n",
    "import pandas as pd\n",
    "import numpy as np\n",
    "import requests"
   ]
  },
  {
   "source": [
    "## World Bank Data Cleaning"
   ],
   "cell_type": "markdown",
   "metadata": {}
  },
  {
   "cell_type": "code",
   "execution_count": 2,
   "metadata": {},
   "outputs": [],
   "source": [
    "# Storing columns to keep in a list to re-iterate over multiple csv's\n",
    "columns_to_keep = [\"Country Name\", \"Country Code\", \"Indicator Name\", \"2000\", \"2001\", \"2002\", \"2003\", \"2004\", \"2005\", \"2006\", \"2007\", \"2008\", \"2009\", \"2010\", \"2011\", \"2012\", \"2013\", \"2014\", \"2015\"]\n",
    "\n",
    "rows_to_remove = [\"ARB\", \"CEB\", \"EUU\", \"EAP\", \"EAR\", \"EAS\", \"ECA\", \"ECS\", \"EMU\", \"FCS\", \"HIC\", \"HPC\", \"IBT\", \"IBD\", \"IDB\", \"IDA\", \"IDX\", \"INX\", \"LAC\", \"LIC\", \"LDC\", \"LCN\", \"LMC\", \"LMY\", \"LTE\",\"LMY\", \"MIC\", \"MEA\", \"MNA\", \"NAC\", \"OED\", \"OSS\", \"PRE\", \"PST\", \"SAS\", \"SSA\", \"SSF\", \"SST\", \"TEA\", \"TEC\", \"TLA\", \"TMN\", \"TSA\", \"TSS\", \"UMC\"]"
   ]
  },
  {
   "cell_type": "code",
   "execution_count": 3,
   "metadata": {},
   "outputs": [
    {
     "output_type": "execute_result",
     "data": {
      "text/plain": [
       "45"
      ]
     },
     "metadata": {},
     "execution_count": 3
    }
   ],
   "source": [
    "# Final length of list should be 265 - len(rows_to_remove)\n",
    "len(rows_to_remove)"
   ]
  },
  {
   "cell_type": "code",
   "execution_count": 4,
   "metadata": {},
   "outputs": [],
   "source": [
    "# Loading raw world bank data and adding to a list\n",
    "CO2_data = pd.read_csv('raw_data/CO2emissions_data.csv', error_bad_lines=False)\n",
    "\n",
    "GDP_data = pd.read_csv('raw_data/GDPpercapita-data.csv', error_bad_lines=False)\n",
    "\n",
    "Renewable_data = pd.read_csv('raw_data/Renewable_energy.csv', error_bad_lines=False)\n",
    "\n",
    "csv_list = []\n",
    "\n",
    "csv_list = [CO2_data, GDP_data, Renewable_data]"
   ]
  },
  {
   "cell_type": "code",
   "execution_count": 5,
   "metadata": {},
   "outputs": [],
   "source": [
    "#Loop through each world bank csv and clean at the same time \n",
    "for csv in csv_list:\n",
    "\n",
    "    # Filtering to only columns to keep \n",
    "    csv.drop(columns=[col for col in csv if col not in columns_to_keep], inplace=True)\n",
    "\n",
    "    # Rename columns \n",
    "    csv.rename(columns={\"country_name\":\"Country Name\",\"country_code\":\"Country Code\",\"indicator_name\":\"Indicator Name\"}, inplace = True)\n",
    "\n",
    "    # Set Country code as the index \n",
    "    csv.set_index(\"Country Code\", inplace=True)\n",
    "    \n",
    "    # Drop any indices that are non-countries ex. MIC is for the all Middle Income countr CO2 emissions\n",
    "    csv.drop(index=[\"ARB\", \"CEB\", \"EUU\", \"EAP\", \"EAR\", \"EAS\", \"ECA\", \"ECS\", \"EMU\", \"FCS\", \"HIC\", \"HPC\", \"IBT\", \"IBD\", \"IDB\", \"IDA\", \"IDX\", \"INX\", \"LAC\", \"LIC\", \"LDC\", \"LCN\", \"LMC\", \"LMY\", \"LTE\",\"LMY\", \"MIC\", \"MEA\", \"MNA\", \"NAC\", \"OED\", \"OSS\", \"PRE\", \"PST\", \"SAS\", \"SSA\", \"SSF\", \"SST\", \"TEA\", \"TEC\", \"TLA\", \"TMN\", \"TSA\", \"TSS\", \"UMC\"], inplace=True)"
   ]
  },
  {
   "cell_type": "code",
   "execution_count": 6,
   "metadata": {},
   "outputs": [
    {
     "output_type": "execute_result",
     "data": {
      "text/plain": [
       "             Country Name                    Indicator Name      2000  \\\n",
       "Country Code                                                            \n",
       "ABW                 Aruba  GDP per capita growth (annual %)  5.427608   \n",
       "AFG           Afghanistan  GDP per capita growth (annual %)       NaN   \n",
       "AGO                Angola  GDP per capita growth (annual %) -0.267945   \n",
       "ALB               Albania  GDP per capita growth (annual %)  7.633866   \n",
       "AND               Andorra  GDP per capita growth (annual %)  1.913452   \n",
       "\n",
       "                  2001      2002      2003      2004       2005      2006  \\\n",
       "Country Code                                                                \n",
       "ABW          -5.107188 -5.405878 -0.152951  6.031742  -0.094958  0.245883   \n",
       "AFG                NaN       NaN  3.868362 -2.875184   7.207933  2.253357   \n",
       "AGO           0.822114  9.943764 -0.431851  7.187036  11.030836  7.582329   \n",
       "ALB           9.311124  4.853922  5.925630  5.951881   6.071391  6.570332   \n",
       "AND           4.986929  0.504741  4.040888  3.792889   1.892421  2.057546   \n",
       "\n",
       "                   2007      2008       2009       2010      2011      2012  \\\n",
       "Country Code                                                                  \n",
       "ABW            1.410010 -0.224764 -10.605300  -3.887760  3.063882 -1.864168   \n",
       "AFG           11.022774  1.594211  18.515369  11.264133 -2.681081  8.974880   \n",
       "AGO            9.890012  7.116873  -2.808634   0.640294 -0.220851  4.706498   \n",
       "ALB            6.783927  8.328036   4.048888   4.223038  2.821558  1.585156   \n",
       "AND           -0.523712 -6.885786  -5.976668  -1.958707  0.830102 -3.452688   \n",
       "\n",
       "                  2013      2014      2015  \n",
       "Country Code                                \n",
       "ABW           3.593198 -0.294412  5.125616  \n",
       "AFG           1.974169 -0.665271 -1.622887  \n",
       "AGO           1.292041  1.219835 -2.468719  \n",
       "ALB           1.187204  1.985426  2.516853  \n",
       "AND          -1.573746  4.524456  2.997046  "
      ],
      "text/html": "<div>\n<style scoped>\n    .dataframe tbody tr th:only-of-type {\n        vertical-align: middle;\n    }\n\n    .dataframe tbody tr th {\n        vertical-align: top;\n    }\n\n    .dataframe thead th {\n        text-align: right;\n    }\n</style>\n<table border=\"1\" class=\"dataframe\">\n  <thead>\n    <tr style=\"text-align: right;\">\n      <th></th>\n      <th>Country Name</th>\n      <th>Indicator Name</th>\n      <th>2000</th>\n      <th>2001</th>\n      <th>2002</th>\n      <th>2003</th>\n      <th>2004</th>\n      <th>2005</th>\n      <th>2006</th>\n      <th>2007</th>\n      <th>2008</th>\n      <th>2009</th>\n      <th>2010</th>\n      <th>2011</th>\n      <th>2012</th>\n      <th>2013</th>\n      <th>2014</th>\n      <th>2015</th>\n    </tr>\n    <tr>\n      <th>Country Code</th>\n      <th></th>\n      <th></th>\n      <th></th>\n      <th></th>\n      <th></th>\n      <th></th>\n      <th></th>\n      <th></th>\n      <th></th>\n      <th></th>\n      <th></th>\n      <th></th>\n      <th></th>\n      <th></th>\n      <th></th>\n      <th></th>\n      <th></th>\n      <th></th>\n    </tr>\n  </thead>\n  <tbody>\n    <tr>\n      <th>ABW</th>\n      <td>Aruba</td>\n      <td>GDP per capita growth (annual %)</td>\n      <td>5.427608</td>\n      <td>-5.107188</td>\n      <td>-5.405878</td>\n      <td>-0.152951</td>\n      <td>6.031742</td>\n      <td>-0.094958</td>\n      <td>0.245883</td>\n      <td>1.410010</td>\n      <td>-0.224764</td>\n      <td>-10.605300</td>\n      <td>-3.887760</td>\n      <td>3.063882</td>\n      <td>-1.864168</td>\n      <td>3.593198</td>\n      <td>-0.294412</td>\n      <td>5.125616</td>\n    </tr>\n    <tr>\n      <th>AFG</th>\n      <td>Afghanistan</td>\n      <td>GDP per capita growth (annual %)</td>\n      <td>NaN</td>\n      <td>NaN</td>\n      <td>NaN</td>\n      <td>3.868362</td>\n      <td>-2.875184</td>\n      <td>7.207933</td>\n      <td>2.253357</td>\n      <td>11.022774</td>\n      <td>1.594211</td>\n      <td>18.515369</td>\n      <td>11.264133</td>\n      <td>-2.681081</td>\n      <td>8.974880</td>\n      <td>1.974169</td>\n      <td>-0.665271</td>\n      <td>-1.622887</td>\n    </tr>\n    <tr>\n      <th>AGO</th>\n      <td>Angola</td>\n      <td>GDP per capita growth (annual %)</td>\n      <td>-0.267945</td>\n      <td>0.822114</td>\n      <td>9.943764</td>\n      <td>-0.431851</td>\n      <td>7.187036</td>\n      <td>11.030836</td>\n      <td>7.582329</td>\n      <td>9.890012</td>\n      <td>7.116873</td>\n      <td>-2.808634</td>\n      <td>0.640294</td>\n      <td>-0.220851</td>\n      <td>4.706498</td>\n      <td>1.292041</td>\n      <td>1.219835</td>\n      <td>-2.468719</td>\n    </tr>\n    <tr>\n      <th>ALB</th>\n      <td>Albania</td>\n      <td>GDP per capita growth (annual %)</td>\n      <td>7.633866</td>\n      <td>9.311124</td>\n      <td>4.853922</td>\n      <td>5.925630</td>\n      <td>5.951881</td>\n      <td>6.071391</td>\n      <td>6.570332</td>\n      <td>6.783927</td>\n      <td>8.328036</td>\n      <td>4.048888</td>\n      <td>4.223038</td>\n      <td>2.821558</td>\n      <td>1.585156</td>\n      <td>1.187204</td>\n      <td>1.985426</td>\n      <td>2.516853</td>\n    </tr>\n    <tr>\n      <th>AND</th>\n      <td>Andorra</td>\n      <td>GDP per capita growth (annual %)</td>\n      <td>1.913452</td>\n      <td>4.986929</td>\n      <td>0.504741</td>\n      <td>4.040888</td>\n      <td>3.792889</td>\n      <td>1.892421</td>\n      <td>2.057546</td>\n      <td>-0.523712</td>\n      <td>-6.885786</td>\n      <td>-5.976668</td>\n      <td>-1.958707</td>\n      <td>0.830102</td>\n      <td>-3.452688</td>\n      <td>-1.573746</td>\n      <td>4.524456</td>\n      <td>2.997046</td>\n    </tr>\n  </tbody>\n</table>\n</div>"
     },
     "metadata": {},
     "execution_count": 6
    }
   ],
   "source": [
    "#Checking to confirm cleaning is correct\n",
    "GDP_data.head(5)"
   ]
  },
  {
   "source": [
    "## Manipulating Cleaned World Bank Data \n"
   ],
   "cell_type": "markdown",
   "metadata": {}
  },
  {
   "cell_type": "code",
   "execution_count": 7,
   "metadata": {},
   "outputs": [
    {
     "output_type": "execute_result",
     "data": {
      "text/plain": [
       "Country Name                   World\n",
       "Indicator Name    CO2 emissions (kt)\n",
       "2000                 23918172.187422\n",
       "2001                 24101535.279574\n",
       "2002                 24634020.255788\n",
       "2003                 25893535.033145\n",
       "2004                 27106644.134534\n",
       "2005                 28043870.884737\n",
       "2006                 29021469.960864\n",
       "2007                 29513157.394651\n",
       "2008                 30680656.021326\n",
       "2009                 29915812.396866\n",
       "2010                 31927784.123311\n",
       "2011                 33090763.411553\n",
       "2012                 33683606.846031\n",
       "2013                 33848272.799064\n",
       "2014                 34103192.880726\n",
       "2015                 34040671.314996\n",
       "Name: WLD, dtype: object"
      ]
     },
     "metadata": {},
     "execution_count": 7
    }
   ],
   "source": [
    "# Slice out World CO2 emissions \n",
    "world_CO2= CO2_data.loc[\"WLD\"]\n",
    "\n",
    "world_CO2"
   ]
  },
  {
   "cell_type": "code",
   "execution_count": 8,
   "metadata": {},
   "outputs": [
    {
     "output_type": "execute_result",
     "data": {
      "text/plain": [
       "             Country Name      Indicator Name         2000         2001  \\\n",
       "Country Code                                                              \n",
       "AUS             Australia  CO2 emissions (kt)   329443.280   324844.862   \n",
       "BRA                Brazil  CO2 emissions (kt)   327983.814   337433.673   \n",
       "CAN                Canada  CO2 emissions (kt)   534380.909   527926.989   \n",
       "CHN                 China  CO2 emissions (kt)  3405179.867  3487566.356   \n",
       "DEU               Germany  CO2 emissions (kt)   829977.779   853662.932   \n",
       "\n",
       "                     2002         2003         2004         2005         2006  \\\n",
       "Country Code                                                                    \n",
       "AUS            341353.696   336271.234   342699.485   350172.831   365346.877   \n",
       "BRA            332266.870   321621.569   337826.042   347308.904   347668.270   \n",
       "CAN            519335.208   553100.944   553357.634   561425.034   571993.328   \n",
       "CHN           3850269.326  4540417.061  5233538.733  5896957.705  6529291.518   \n",
       "DEU            829724.756   823003.145   815969.839   797759.517   816721.574   \n",
       "\n",
       "                     2007         2008         2009         2010         2011  \\\n",
       "Country Code                                                                    \n",
       "AUS            372090.490   385904.079   394792.887   390861.863   391818.950   \n",
       "BRA            363212.683   387631.236   367147.374   419754.156   439412.943   \n",
       "CAN            571846.648   561791.734   532191.710   527263.262   522774.854   \n",
       "CHN           6697654.489  7553070.247  7557789.676  8776040.416  9733538.120   \n",
       "DEU            781247.016   779296.172   720547.165   757880.892   729810.007   \n",
       "\n",
       "                      2012          2013          2014          2015  \n",
       "Country Code                                                          \n",
       "AUS           3.881263e+05  3.723178e+05  3.613168e+05  3.653322e+05  \n",
       "BRA           4.700287e+05  5.036771e+05  5.335302e+05  5.043885e+05  \n",
       "CAN           5.177217e+05  5.191885e+05  5.406148e+05  5.494303e+05  \n",
       "CHN           1.002857e+07  1.025801e+07  1.029193e+07  1.014500e+07  \n",
       "DEU           7.381414e+05  7.579616e+05  7.203638e+05  7.270451e+05  "
      ],
      "text/html": "<div>\n<style scoped>\n    .dataframe tbody tr th:only-of-type {\n        vertical-align: middle;\n    }\n\n    .dataframe tbody tr th {\n        vertical-align: top;\n    }\n\n    .dataframe thead th {\n        text-align: right;\n    }\n</style>\n<table border=\"1\" class=\"dataframe\">\n  <thead>\n    <tr style=\"text-align: right;\">\n      <th></th>\n      <th>Country Name</th>\n      <th>Indicator Name</th>\n      <th>2000</th>\n      <th>2001</th>\n      <th>2002</th>\n      <th>2003</th>\n      <th>2004</th>\n      <th>2005</th>\n      <th>2006</th>\n      <th>2007</th>\n      <th>2008</th>\n      <th>2009</th>\n      <th>2010</th>\n      <th>2011</th>\n      <th>2012</th>\n      <th>2013</th>\n      <th>2014</th>\n      <th>2015</th>\n    </tr>\n    <tr>\n      <th>Country Code</th>\n      <th></th>\n      <th></th>\n      <th></th>\n      <th></th>\n      <th></th>\n      <th></th>\n      <th></th>\n      <th></th>\n      <th></th>\n      <th></th>\n      <th></th>\n      <th></th>\n      <th></th>\n      <th></th>\n      <th></th>\n      <th></th>\n      <th></th>\n      <th></th>\n    </tr>\n  </thead>\n  <tbody>\n    <tr>\n      <th>AUS</th>\n      <td>Australia</td>\n      <td>CO2 emissions (kt)</td>\n      <td>329443.280</td>\n      <td>324844.862</td>\n      <td>341353.696</td>\n      <td>336271.234</td>\n      <td>342699.485</td>\n      <td>350172.831</td>\n      <td>365346.877</td>\n      <td>372090.490</td>\n      <td>385904.079</td>\n      <td>394792.887</td>\n      <td>390861.863</td>\n      <td>391818.950</td>\n      <td>3.881263e+05</td>\n      <td>3.723178e+05</td>\n      <td>3.613168e+05</td>\n      <td>3.653322e+05</td>\n    </tr>\n    <tr>\n      <th>BRA</th>\n      <td>Brazil</td>\n      <td>CO2 emissions (kt)</td>\n      <td>327983.814</td>\n      <td>337433.673</td>\n      <td>332266.870</td>\n      <td>321621.569</td>\n      <td>337826.042</td>\n      <td>347308.904</td>\n      <td>347668.270</td>\n      <td>363212.683</td>\n      <td>387631.236</td>\n      <td>367147.374</td>\n      <td>419754.156</td>\n      <td>439412.943</td>\n      <td>4.700287e+05</td>\n      <td>5.036771e+05</td>\n      <td>5.335302e+05</td>\n      <td>5.043885e+05</td>\n    </tr>\n    <tr>\n      <th>CAN</th>\n      <td>Canada</td>\n      <td>CO2 emissions (kt)</td>\n      <td>534380.909</td>\n      <td>527926.989</td>\n      <td>519335.208</td>\n      <td>553100.944</td>\n      <td>553357.634</td>\n      <td>561425.034</td>\n      <td>571993.328</td>\n      <td>571846.648</td>\n      <td>561791.734</td>\n      <td>532191.710</td>\n      <td>527263.262</td>\n      <td>522774.854</td>\n      <td>5.177217e+05</td>\n      <td>5.191885e+05</td>\n      <td>5.406148e+05</td>\n      <td>5.494303e+05</td>\n    </tr>\n    <tr>\n      <th>CHN</th>\n      <td>China</td>\n      <td>CO2 emissions (kt)</td>\n      <td>3405179.867</td>\n      <td>3487566.356</td>\n      <td>3850269.326</td>\n      <td>4540417.061</td>\n      <td>5233538.733</td>\n      <td>5896957.705</td>\n      <td>6529291.518</td>\n      <td>6697654.489</td>\n      <td>7553070.247</td>\n      <td>7557789.676</td>\n      <td>8776040.416</td>\n      <td>9733538.120</td>\n      <td>1.002857e+07</td>\n      <td>1.025801e+07</td>\n      <td>1.029193e+07</td>\n      <td>1.014500e+07</td>\n    </tr>\n    <tr>\n      <th>DEU</th>\n      <td>Germany</td>\n      <td>CO2 emissions (kt)</td>\n      <td>829977.779</td>\n      <td>853662.932</td>\n      <td>829724.756</td>\n      <td>823003.145</td>\n      <td>815969.839</td>\n      <td>797759.517</td>\n      <td>816721.574</td>\n      <td>781247.016</td>\n      <td>779296.172</td>\n      <td>720547.165</td>\n      <td>757880.892</td>\n      <td>729810.007</td>\n      <td>7.381414e+05</td>\n      <td>7.579616e+05</td>\n      <td>7.203638e+05</td>\n      <td>7.270451e+05</td>\n    </tr>\n  </tbody>\n</table>\n</div>"
     },
     "metadata": {},
     "execution_count": 8
    }
   ],
   "source": [
    "# Drop World emissions\n",
    "CO2_data.drop(index=[\"WLD\"], inplace=True)\n",
    "\n",
    "# Slice top 20 countries with highest CO2 emissions\n",
    "top20_CO2df = CO2_data.nlargest(20, '2015')\n",
    "\n",
    "# Sort Country Names alphabetically \n",
    "top20_CO2df.sort_values(\"Country Name\", inplace= True)\n",
    "\n",
    "top20_CO2df.head(5)"
   ]
  },
  {
   "cell_type": "code",
   "execution_count": 9,
   "metadata": {},
   "outputs": [],
   "source": [
    "# Store Top 20 country codes in a list \n",
    "top20_countrycodes_list = []\n",
    "top20_countrycodes_list = top20_CO2df.index.tolist()\n",
    "top20_countrycodes = pd.DataFrame(top20_countrycodes_list)"
   ]
  },
  {
   "cell_type": "code",
   "execution_count": 10,
   "metadata": {},
   "outputs": [
    {
     "output_type": "execute_result",
     "data": {
      "text/plain": [
       "             Country Name                    Indicator Name      2000  \\\n",
       "Country Code                                                            \n",
       "AUS             Australia  GDP per capita growth (annual %)  2.701329   \n",
       "BRA                Brazil  GDP per capita growth (annual %)  2.911826   \n",
       "CAN                Canada  GDP per capita growth (annual %)  3.945219   \n",
       "CHN                 China  GDP per capita growth (annual %)  7.638598   \n",
       "DEU               Germany  GDP per capita growth (annual %)  2.773221   \n",
       "\n",
       "                  2001      2002      2003      2004       2005       2006  \\\n",
       "Country Code                                                                 \n",
       "AUS           0.565689  2.739716  1.722900  2.856049   1.851139   1.289214   \n",
       "BRA           0.013370  1.709474 -0.122936  4.497077   2.026307   2.834754   \n",
       "CAN           0.309870  2.303577  2.879570  2.948998   4.008878   3.118693   \n",
       "CHN           7.551655  8.404880  9.354777  9.461559  10.741375  12.093305   \n",
       "DEU           1.510558 -0.365628 -0.755077  1.197055   0.788917   3.933610   \n",
       "\n",
       "                   2007      2008      2009       2010      2011      2012  \\\n",
       "Country Code                                                                 \n",
       "AUS            3.197560  1.601302 -0.142471   0.492053  1.048854  2.119684   \n",
       "BRA            4.974705  4.054410 -1.081944   6.524373  3.026407  1.014510   \n",
       "CAN            5.835793 -0.080295 -4.030420   1.949628  2.142309  0.663248   \n",
       "CHN           13.635820  9.090280  8.855948  10.102833  9.027174  7.339469   \n",
       "DEU            3.114246  1.152030 -5.454577   4.339607  5.869636  0.230161   \n",
       "\n",
       "                  2013      2014      2015  \n",
       "Country Code                                \n",
       "AUS           0.834364  1.015114  0.732407  \n",
       "BRA           2.108912 -0.352479 -4.351484  \n",
       "CAN           1.253614  1.841026 -0.089286  \n",
       "CHN           7.235409  6.883229  6.498792  \n",
       "DEU           0.163871  1.784342  0.617105  "
      ],
      "text/html": "<div>\n<style scoped>\n    .dataframe tbody tr th:only-of-type {\n        vertical-align: middle;\n    }\n\n    .dataframe tbody tr th {\n        vertical-align: top;\n    }\n\n    .dataframe thead th {\n        text-align: right;\n    }\n</style>\n<table border=\"1\" class=\"dataframe\">\n  <thead>\n    <tr style=\"text-align: right;\">\n      <th></th>\n      <th>Country Name</th>\n      <th>Indicator Name</th>\n      <th>2000</th>\n      <th>2001</th>\n      <th>2002</th>\n      <th>2003</th>\n      <th>2004</th>\n      <th>2005</th>\n      <th>2006</th>\n      <th>2007</th>\n      <th>2008</th>\n      <th>2009</th>\n      <th>2010</th>\n      <th>2011</th>\n      <th>2012</th>\n      <th>2013</th>\n      <th>2014</th>\n      <th>2015</th>\n    </tr>\n    <tr>\n      <th>Country Code</th>\n      <th></th>\n      <th></th>\n      <th></th>\n      <th></th>\n      <th></th>\n      <th></th>\n      <th></th>\n      <th></th>\n      <th></th>\n      <th></th>\n      <th></th>\n      <th></th>\n      <th></th>\n      <th></th>\n      <th></th>\n      <th></th>\n      <th></th>\n      <th></th>\n    </tr>\n  </thead>\n  <tbody>\n    <tr>\n      <th>AUS</th>\n      <td>Australia</td>\n      <td>GDP per capita growth (annual %)</td>\n      <td>2.701329</td>\n      <td>0.565689</td>\n      <td>2.739716</td>\n      <td>1.722900</td>\n      <td>2.856049</td>\n      <td>1.851139</td>\n      <td>1.289214</td>\n      <td>3.197560</td>\n      <td>1.601302</td>\n      <td>-0.142471</td>\n      <td>0.492053</td>\n      <td>1.048854</td>\n      <td>2.119684</td>\n      <td>0.834364</td>\n      <td>1.015114</td>\n      <td>0.732407</td>\n    </tr>\n    <tr>\n      <th>BRA</th>\n      <td>Brazil</td>\n      <td>GDP per capita growth (annual %)</td>\n      <td>2.911826</td>\n      <td>0.013370</td>\n      <td>1.709474</td>\n      <td>-0.122936</td>\n      <td>4.497077</td>\n      <td>2.026307</td>\n      <td>2.834754</td>\n      <td>4.974705</td>\n      <td>4.054410</td>\n      <td>-1.081944</td>\n      <td>6.524373</td>\n      <td>3.026407</td>\n      <td>1.014510</td>\n      <td>2.108912</td>\n      <td>-0.352479</td>\n      <td>-4.351484</td>\n    </tr>\n    <tr>\n      <th>CAN</th>\n      <td>Canada</td>\n      <td>GDP per capita growth (annual %)</td>\n      <td>3.945219</td>\n      <td>0.309870</td>\n      <td>2.303577</td>\n      <td>2.879570</td>\n      <td>2.948998</td>\n      <td>4.008878</td>\n      <td>3.118693</td>\n      <td>5.835793</td>\n      <td>-0.080295</td>\n      <td>-4.030420</td>\n      <td>1.949628</td>\n      <td>2.142309</td>\n      <td>0.663248</td>\n      <td>1.253614</td>\n      <td>1.841026</td>\n      <td>-0.089286</td>\n    </tr>\n    <tr>\n      <th>CHN</th>\n      <td>China</td>\n      <td>GDP per capita growth (annual %)</td>\n      <td>7.638598</td>\n      <td>7.551655</td>\n      <td>8.404880</td>\n      <td>9.354777</td>\n      <td>9.461559</td>\n      <td>10.741375</td>\n      <td>12.093305</td>\n      <td>13.635820</td>\n      <td>9.090280</td>\n      <td>8.855948</td>\n      <td>10.102833</td>\n      <td>9.027174</td>\n      <td>7.339469</td>\n      <td>7.235409</td>\n      <td>6.883229</td>\n      <td>6.498792</td>\n    </tr>\n    <tr>\n      <th>DEU</th>\n      <td>Germany</td>\n      <td>GDP per capita growth (annual %)</td>\n      <td>2.773221</td>\n      <td>1.510558</td>\n      <td>-0.365628</td>\n      <td>-0.755077</td>\n      <td>1.197055</td>\n      <td>0.788917</td>\n      <td>3.933610</td>\n      <td>3.114246</td>\n      <td>1.152030</td>\n      <td>-5.454577</td>\n      <td>4.339607</td>\n      <td>5.869636</td>\n      <td>0.230161</td>\n      <td>0.163871</td>\n      <td>1.784342</td>\n      <td>0.617105</td>\n    </tr>\n  </tbody>\n</table>\n</div>"
     },
     "metadata": {},
     "execution_count": 10
    }
   ],
   "source": [
    "# Store Top 20 Countries-GDP chart \n",
    "top20_GDP= GDP_data.loc[top20_countrycodes_list]\n",
    "top20_GDP.sort_values(\"Country Name\", inplace= True)\n",
    "top20_GDP.head()"
   ]
  },
  {
   "cell_type": "code",
   "execution_count": 11,
   "metadata": {},
   "outputs": [
    {
     "output_type": "execute_result",
     "data": {
      "text/plain": [
       "20"
      ]
     },
     "metadata": {},
     "execution_count": 11
    }
   ],
   "source": [
    "# Store Top 20 Countries-Renewable Energy chart \n",
    "top20_Renewable= Renewable_data.loc[top20_countrycodes_list]\n",
    "top20_Renewable.sort_values(\"Country Name\", inplace= True)\n",
    "len(top20_Renewable)"
   ]
  },
  {
   "source": [
    "## Exporting to clean CSVs"
   ],
   "cell_type": "markdown",
   "metadata": {}
  },
  {
   "cell_type": "code",
   "execution_count": 12,
   "metadata": {},
   "outputs": [],
   "source": [
    "top20_CO2df.to_csv(\"top20_CO2df.csv\", index=True)\n",
    "\n",
    "CO2_data.to_csv(\"CO2_data.csv\", index=True)\n",
    "\n",
    "top20_GDP.to_csv(\"top20_GDP.csv\", index=True)\n",
    "\n",
    "GDP_data.to_csv(\"GDP_data.csv\", index=True)\n",
    "\n",
    "top20_Renewable.to_csv(\"top20_Renewable.csv\", index=True)\n",
    "\n",
    "Renewable_data.to_csv(\"Renewable_data.csv\", index=True)\n",
    "\n",
    "world_CO2.to_csv(\"top20_Renewable.csv\", index=True)\n",
    "\n",
    "top20_countrycodes.to_csv(\"top20_countrycodes_list.csv\", index=True)"
   ]
  },
  {
   "source": [
    "## Protected Planet API pull\n"
   ],
   "cell_type": "markdown",
   "metadata": {}
  },
  {
   "cell_type": "code",
   "execution_count": 13,
   "metadata": {},
   "outputs": [
    {
     "output_type": "stream",
     "name": "stdout",
     "text": [
      "TYPE\nWDPAID\nWDPA_PID\nPA_DEF\nNAME\nORIG_NAME\nDESIG\nDESIG_ENG\nDESIG_TYPE\nIUCN_CAT\nINT_CRIT\nMARINE\nREP_M_AREA\nGIS_M_AREA\nREP_AREA\nGIS_AREA\nNO_TAKE\nNO_TK_AREA\nSTATUS\nSTATUS_YR\nGOV_TYPE\nOWN_TYPE\nMANG_AUTH\nMANG_PLAN\nVERIF\nMETADATAID\nSUB_LOC\nPARENT_ISO3\nISO3\nSUPP_INFO\nCONS_OBJ\n"
     ]
    }
   ],
   "source": [
    "# Read in Protected Planet csv \n",
    "planet_data= pd.read_csv('raw_data/Protected_Planet.csv', error_bad_lines=False)\n",
    "\n",
    "#Print column names to determine which to keep \n",
    "for col in planet_data.columns:\n",
    "    print(col)"
   ]
  },
  {
   "cell_type": "code",
   "execution_count": 14,
   "metadata": {},
   "outputs": [
    {
     "output_type": "execute_result",
     "data": {
      "text/plain": [
       "          TYPE  WDPAID WDPA_PID                          NAME  REP_M_AREA  \\\n",
       "0      Polygon   10507    10507               Victoria Forest         0.0   \n",
       "1      Polygon     813      813       Tongariro National Park         0.0   \n",
       "2      Polygon   10490    10490                Tararua Forest         0.0   \n",
       "3      Polygon     808      808       Fiordland National Park         0.0   \n",
       "4      Polygon     809      809  Mount Aspiring National Park         0.0   \n",
       "...        ...     ...      ...                           ...         ...   \n",
       "10033  Polygon   10712    10712             Tsentral'nolesnoy         0.0   \n",
       "10034  Polygon   10717    10717             Pechoro-Ilychskiy         0.0   \n",
       "10035  Polygon   10719    10719                 Sokhondinskiy         0.0   \n",
       "10036  Polygon   11592    11592                     Baikalsky         0.0   \n",
       "10037  Polygon   12443    12443           Tzentralnosibirskii         0.0   \n",
       "\n",
       "       STATUS_YR PARENT_ISO3 ISO3  \n",
       "0           1981         NZL  NZL  \n",
       "1           1907         NZL  NZL  \n",
       "2           1996         NZL  NZL  \n",
       "3           1978         NZL  NZL  \n",
       "4           1964         NZL  NZL  \n",
       "...          ...         ...  ...  \n",
       "10033       1985         RUS  RUS  \n",
       "10034       1984         RUS  RUS  \n",
       "10035       1984         RUS  RUS  \n",
       "10036       1986         RUS  RUS  \n",
       "10037       1986         RUS  RUS  \n",
       "\n",
       "[10038 rows x 8 columns]"
      ],
      "text/html": "<div>\n<style scoped>\n    .dataframe tbody tr th:only-of-type {\n        vertical-align: middle;\n    }\n\n    .dataframe tbody tr th {\n        vertical-align: top;\n    }\n\n    .dataframe thead th {\n        text-align: right;\n    }\n</style>\n<table border=\"1\" class=\"dataframe\">\n  <thead>\n    <tr style=\"text-align: right;\">\n      <th></th>\n      <th>TYPE</th>\n      <th>WDPAID</th>\n      <th>WDPA_PID</th>\n      <th>NAME</th>\n      <th>REP_M_AREA</th>\n      <th>STATUS_YR</th>\n      <th>PARENT_ISO3</th>\n      <th>ISO3</th>\n    </tr>\n  </thead>\n  <tbody>\n    <tr>\n      <th>0</th>\n      <td>Polygon</td>\n      <td>10507</td>\n      <td>10507</td>\n      <td>Victoria Forest</td>\n      <td>0.0</td>\n      <td>1981</td>\n      <td>NZL</td>\n      <td>NZL</td>\n    </tr>\n    <tr>\n      <th>1</th>\n      <td>Polygon</td>\n      <td>813</td>\n      <td>813</td>\n      <td>Tongariro National Park</td>\n      <td>0.0</td>\n      <td>1907</td>\n      <td>NZL</td>\n      <td>NZL</td>\n    </tr>\n    <tr>\n      <th>2</th>\n      <td>Polygon</td>\n      <td>10490</td>\n      <td>10490</td>\n      <td>Tararua Forest</td>\n      <td>0.0</td>\n      <td>1996</td>\n      <td>NZL</td>\n      <td>NZL</td>\n    </tr>\n    <tr>\n      <th>3</th>\n      <td>Polygon</td>\n      <td>808</td>\n      <td>808</td>\n      <td>Fiordland National Park</td>\n      <td>0.0</td>\n      <td>1978</td>\n      <td>NZL</td>\n      <td>NZL</td>\n    </tr>\n    <tr>\n      <th>4</th>\n      <td>Polygon</td>\n      <td>809</td>\n      <td>809</td>\n      <td>Mount Aspiring National Park</td>\n      <td>0.0</td>\n      <td>1964</td>\n      <td>NZL</td>\n      <td>NZL</td>\n    </tr>\n    <tr>\n      <th>...</th>\n      <td>...</td>\n      <td>...</td>\n      <td>...</td>\n      <td>...</td>\n      <td>...</td>\n      <td>...</td>\n      <td>...</td>\n      <td>...</td>\n    </tr>\n    <tr>\n      <th>10033</th>\n      <td>Polygon</td>\n      <td>10712</td>\n      <td>10712</td>\n      <td>Tsentral'nolesnoy</td>\n      <td>0.0</td>\n      <td>1985</td>\n      <td>RUS</td>\n      <td>RUS</td>\n    </tr>\n    <tr>\n      <th>10034</th>\n      <td>Polygon</td>\n      <td>10717</td>\n      <td>10717</td>\n      <td>Pechoro-Ilychskiy</td>\n      <td>0.0</td>\n      <td>1984</td>\n      <td>RUS</td>\n      <td>RUS</td>\n    </tr>\n    <tr>\n      <th>10035</th>\n      <td>Polygon</td>\n      <td>10719</td>\n      <td>10719</td>\n      <td>Sokhondinskiy</td>\n      <td>0.0</td>\n      <td>1984</td>\n      <td>RUS</td>\n      <td>RUS</td>\n    </tr>\n    <tr>\n      <th>10036</th>\n      <td>Polygon</td>\n      <td>11592</td>\n      <td>11592</td>\n      <td>Baikalsky</td>\n      <td>0.0</td>\n      <td>1986</td>\n      <td>RUS</td>\n      <td>RUS</td>\n    </tr>\n    <tr>\n      <th>10037</th>\n      <td>Polygon</td>\n      <td>12443</td>\n      <td>12443</td>\n      <td>Tzentralnosibirskii</td>\n      <td>0.0</td>\n      <td>1986</td>\n      <td>RUS</td>\n      <td>RUS</td>\n    </tr>\n  </tbody>\n</table>\n<p>10038 rows × 8 columns</p>\n</div>"
     },
     "metadata": {},
     "execution_count": 14
    }
   ],
   "source": [
    "# Reduce to required columns only \n",
    "pp_columns = [\"TYPE\", \"WDPAID\", \"WDPA_PID\", \"NAME\", \"REP_M_AREA\", \"STATUS_YR\", \"PARENT_ISO3\"]\n",
    "\n",
    "reduced_planet= planet_data[pp_columns]\n",
    "\n",
    "reduced_planet"
   ]
  },
  {
   "cell_type": "code",
   "execution_count": 25,
   "metadata": {},
   "outputs": [
    {
     "output_type": "execute_result",
     "data": {
      "text/plain": [
       "          TYPE  WDPAID WDPA_PID  \\\n",
       "95     Polygon    1590     1590   \n",
       "96     Polygon     810      810   \n",
       "108    Polygon    1630     1630   \n",
       "131    Polygon    4471     4471   \n",
       "141    Polygon    7972     7972   \n",
       "...        ...     ...      ...   \n",
       "9667   Polygon   14753    14753   \n",
       "9684   Polygon     841      841   \n",
       "9810   Polygon   18232    18232   \n",
       "9823   Polygon    4168   4168_D   \n",
       "10025  Polygon   14075    14075   \n",
       "\n",
       "                                                    NAME   REP_M_AREA  \\\n",
       "95                                             Pukeamaru     0.000000   \n",
       "96                                            Te Urewera     0.000000   \n",
       "108                                              Dilijan     0.000000   \n",
       "131                                           Hajarikhil     0.000000   \n",
       "141                                             Ramsagar     0.000000   \n",
       "...                                                  ...          ...   \n",
       "9667                 Malampaya Sound Protected Landscape  1121.713420   \n",
       "9684      Mts. Banahaw-San Cristobal Protected Landscape     0.000000   \n",
       "9810   Silent Lake Provincial Park (Natural Environme...     0.000000   \n",
       "9823                          Whiteshell Provincial Park     0.000000   \n",
       "10025                 Shoal Bay and Island Harbour Reefs    17.777684   \n",
       "\n",
       "       STATUS_YR PARENT_ISO3 ISO3  \n",
       "95          2012         NZL  NZL  \n",
       "96          2014         NZL  NZL  \n",
       "108         2002         ARM  ARM  \n",
       "131         2010         BGD  BGD  \n",
       "141         2001         BGD  BGD  \n",
       "...          ...         ...  ...  \n",
       "9667        2000         PHL  PHL  \n",
       "9684        2009         PHL  PHL  \n",
       "9810        2000         CAN  CAN  \n",
       "9823        2014         CAN  CAN  \n",
       "10025       2007         GBR  AIA  \n",
       "\n",
       "[654 rows x 8 columns]"
      ],
      "text/html": "<div>\n<style scoped>\n    .dataframe tbody tr th:only-of-type {\n        vertical-align: middle;\n    }\n\n    .dataframe tbody tr th {\n        vertical-align: top;\n    }\n\n    .dataframe thead th {\n        text-align: right;\n    }\n</style>\n<table border=\"1\" class=\"dataframe\">\n  <thead>\n    <tr style=\"text-align: right;\">\n      <th></th>\n      <th>TYPE</th>\n      <th>WDPAID</th>\n      <th>WDPA_PID</th>\n      <th>NAME</th>\n      <th>REP_M_AREA</th>\n      <th>STATUS_YR</th>\n      <th>PARENT_ISO3</th>\n      <th>ISO3</th>\n    </tr>\n  </thead>\n  <tbody>\n    <tr>\n      <th>95</th>\n      <td>Polygon</td>\n      <td>1590</td>\n      <td>1590</td>\n      <td>Pukeamaru</td>\n      <td>0.000000</td>\n      <td>2012</td>\n      <td>NZL</td>\n      <td>NZL</td>\n    </tr>\n    <tr>\n      <th>96</th>\n      <td>Polygon</td>\n      <td>810</td>\n      <td>810</td>\n      <td>Te Urewera</td>\n      <td>0.000000</td>\n      <td>2014</td>\n      <td>NZL</td>\n      <td>NZL</td>\n    </tr>\n    <tr>\n      <th>108</th>\n      <td>Polygon</td>\n      <td>1630</td>\n      <td>1630</td>\n      <td>Dilijan</td>\n      <td>0.000000</td>\n      <td>2002</td>\n      <td>ARM</td>\n      <td>ARM</td>\n    </tr>\n    <tr>\n      <th>131</th>\n      <td>Polygon</td>\n      <td>4471</td>\n      <td>4471</td>\n      <td>Hajarikhil</td>\n      <td>0.000000</td>\n      <td>2010</td>\n      <td>BGD</td>\n      <td>BGD</td>\n    </tr>\n    <tr>\n      <th>141</th>\n      <td>Polygon</td>\n      <td>7972</td>\n      <td>7972</td>\n      <td>Ramsagar</td>\n      <td>0.000000</td>\n      <td>2001</td>\n      <td>BGD</td>\n      <td>BGD</td>\n    </tr>\n    <tr>\n      <th>...</th>\n      <td>...</td>\n      <td>...</td>\n      <td>...</td>\n      <td>...</td>\n      <td>...</td>\n      <td>...</td>\n      <td>...</td>\n      <td>...</td>\n    </tr>\n    <tr>\n      <th>9667</th>\n      <td>Polygon</td>\n      <td>14753</td>\n      <td>14753</td>\n      <td>Malampaya Sound Protected Landscape</td>\n      <td>1121.713420</td>\n      <td>2000</td>\n      <td>PHL</td>\n      <td>PHL</td>\n    </tr>\n    <tr>\n      <th>9684</th>\n      <td>Polygon</td>\n      <td>841</td>\n      <td>841</td>\n      <td>Mts. Banahaw-San Cristobal Protected Landscape</td>\n      <td>0.000000</td>\n      <td>2009</td>\n      <td>PHL</td>\n      <td>PHL</td>\n    </tr>\n    <tr>\n      <th>9810</th>\n      <td>Polygon</td>\n      <td>18232</td>\n      <td>18232</td>\n      <td>Silent Lake Provincial Park (Natural Environme...</td>\n      <td>0.000000</td>\n      <td>2000</td>\n      <td>CAN</td>\n      <td>CAN</td>\n    </tr>\n    <tr>\n      <th>9823</th>\n      <td>Polygon</td>\n      <td>4168</td>\n      <td>4168_D</td>\n      <td>Whiteshell Provincial Park</td>\n      <td>0.000000</td>\n      <td>2014</td>\n      <td>CAN</td>\n      <td>CAN</td>\n    </tr>\n    <tr>\n      <th>10025</th>\n      <td>Polygon</td>\n      <td>14075</td>\n      <td>14075</td>\n      <td>Shoal Bay and Island Harbour Reefs</td>\n      <td>17.777684</td>\n      <td>2007</td>\n      <td>GBR</td>\n      <td>AIA</td>\n    </tr>\n  </tbody>\n</table>\n<p>654 rows × 8 columns</p>\n</div>"
     },
     "metadata": {},
     "execution_count": 25
    }
   ],
   "source": [
    "# Create a mask to filter years between 2000 and 2015 to match the world bank timeline\n",
    "planet_year_mask = (reduced_planet[\"STATUS_YR\"] >=2000) & (reduced_planet[\"STATUS_YR\"] <=2015)\n",
    "\n",
    "pp_data = reduced_planet.loc[planet_year_mask]\n",
    "pp_data"
   ]
  },
  {
   "cell_type": "code",
   "execution_count": null,
   "metadata": {},
   "outputs": [],
   "source": []
  }
 ],
 "metadata": {
  "kernelspec": {
   "name": "python392jvsc74a57bd063fd5069d213b44bf678585dea6b12cceca9941eaf7f819626cde1f2670de90d",
   "display_name": "Python 3.9.2 64-bit"
  },
  "language_info": {
   "codemirror_mode": {
    "name": "ipython",
    "version": 3
   },
   "file_extension": ".py",
   "mimetype": "text/x-python",
   "name": "python",
   "nbconvert_exporter": "python",
   "pygments_lexer": "ipython3",
   "version": "3.9.2-final"
  },
  "metadata": {
   "interpreter": {
    "hash": "63fd5069d213b44bf678585dea6b12cceca9941eaf7f819626cde1f2670de90d"
   }
  }
 },
 "nbformat": 4,
 "nbformat_minor": 4
}