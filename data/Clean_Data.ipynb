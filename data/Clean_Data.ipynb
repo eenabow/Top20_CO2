{
 "cells": [
  {
   "cell_type": "code",
   "execution_count": null,
   "metadata": {},
   "outputs": [],
   "source": [
    "# Dependencies and Setup\n",
    "import pandas as pd\n",
    "import numpy as np\n",
    "import requests\n",
    "\n",
    "\n",
    "# Storing columns to keep in a list to re-iterate over multiple csv's\n",
    "# columns_to_keep = [\"Country Name\", \"Country Code\", \"Indicator Name\", \"2015\"]\n",
    "columns_to_keep = [\"Country Name\", \"Country Code\", \"Indicator Name\", \"2000\", \"2001\", \"2002\", \"2003\", \"2004\", \"2005\", \"2006\", \"2007\", \"2008\", \"2009\", \"2010\", \"2011\", \"2012\", \"2013\", \"2014\", \"2015\"]\n",
    "\n",
    "rows_to_remove = [\"ARB\", \"CEB\", \"EUU\", \"EAP\", \"EAR\", \"EAS\", \"ECA\", \"ECS\", \"EMU\", \"FCS\", \"HIC\", \"HPC\", \"IBT\", \"IBD\", \"IDB\", \"IDA\", \"IDX\", \"LAC\", \"LIC\", \"LDC\", \"LCN\", \"LMC\", \"LMY\", \"LTE\",\"LMY\", \"MIC\", \"MEA\", \"MNA\", \"NAC\", \"OED\", \"OSS\", \"PRE\", \"PST\", \"SAS\", \"SSA\", \"SSF\", \"SST\", \"TEA\", \"TEC\", \"TLA\", \"TMN\", \"TSA\", \"TSS\", \"UMC\"]"
   ]
  },
  {
   "cell_type": "code",
   "execution_count": null,
   "metadata": {},
   "outputs": [],
   "source": [
    "# Final length of list should be 265 - len(rows_to_remove)\n",
    "len(rows_to_remove)"
   ]
  },
  {
   "cell_type": "code",
   "execution_count": null,
   "metadata": {},
   "outputs": [],
   "source": [
    "# Loading raw world bank data and adding to a list\n",
    "CO2_data = pd.read_csv('raw_data/CO2emissions_data.csv', error_bad_lines=False)\n",
    "\n",
    "GDP_data = pd.read_csv('raw_data/GDPpercapita-data.csv', error_bad_lines=False)\n",
    "\n",
    "Renewable_data = pd.read_csv('raw_data/Renewable_energy.csv', error_bad_lines=False)\n",
    "\n",
    "csv_list = []\n",
    "\n",
    "csv_list = [CO2_data, GDP_data, Renewable_data]"
   ]
  },
  {
   "cell_type": "code",
   "execution_count": null,
   "metadata": {},
   "outputs": [],
   "source": [
    "#Loop through each world bank csv and clean at the same time \n",
    "for csv in csv_list:\n",
    "    # Filtering to only columns to keep \n",
    "    Organized_df = data[columns_to_keep]\n",
    "    # Rename columns \n",
    "    csv.rename(columns={\"country_name\":\"Country Name\",\"country_code\":\"Country Code\",\"indicator_name\":\"Indicator Name\"}, inplace = True)\n",
    "    # Set Country code as the index \n",
    "    csv.set_index(\"Country Code\", inplace=True)\n",
    "    # Drop any indices that are non-countries ex. MIC is for the all Middle Income countr CO2 emissions\n",
    "    csv.drop(index=[\"ARB\", \"CEB\", \"EUU\", \"EAP\", \"EAR\", \"EAS\", \"ECA\", \"ECS\", \"EMU\", \"FCS\", \"HIC\", \"HPC\", \"IBT\", \"IBD\", \"IDB\", \"IDA\", \"IDX\", \"LAC\", \"LIC\", \"LDC\", \"LCN\", \"LMC\", \"LMY\", \"LTE\",\"LMY\", \"MIC\", \"MEA\", \"MNA\", \"NAC\", \"OED\", \"OSS\", \"PRE\", \"PST\", \"SAS\", \"SSA\", \"SSF\", \"SST\", \"TEA\", \"TEC\", \"TLA\", \"TMN\", \"TSA\", \"TSS\", \"UMC\"], inplace=True)"
   ]
  },
  {
   "cell_type": "code",
   "execution_count": null,
   "metadata": {},
   "outputs": [],
   "source": [
    "Countries = GDP_data[\"Country Name\"]\n",
    "Countries"
   ]
  },
  {
   "source": [
    "## GDP Cleaning"
   ],
   "cell_type": "markdown",
   "metadata": {}
  },
  {
   "cell_type": "code",
   "execution_count": null,
   "metadata": {},
   "outputs": [],
   "source": [
    "# Loading raw GDP data and cleaning\n",
    "data = pd.read_csv('raw_data/GDPpercapita-data.csv', error_bad_lines=False)"
   ]
  },
  {
   "cell_type": "code",
   "execution_count": null,
   "metadata": {},
   "outputs": [],
   "source": [
    "# Filtering to only columns to keep \n",
    "Organized_df = data[columns_to_keep]"
   ]
  },
  {
   "cell_type": "code",
   "execution_count": null,
   "metadata": {},
   "outputs": [],
   "source": [
    "Organized_df.head(50)"
   ]
  },
  {
   "cell_type": "code",
   "execution_count": null,
   "metadata": {},
   "outputs": [],
   "source": [
    "# Drop NANs\n",
    "GDP_data = Organized_df.dropna()"
   ]
  },
  {
   "cell_type": "code",
   "execution_count": null,
   "metadata": {},
   "outputs": [],
   "source": [
    "# Renaming columns \n",
    "GDP_data.rename(columns={\"country_name\":\"Country Name\",\"country_code\":\"Country Code\",\"indicator_name\":\"Indicator Name\"}, inplace = True)\n",
    "\n",
    "# Resetting index\n",
    "GDP_data.set_index(\"Country Code\", inplace=True)"
   ]
  },
  {
   "cell_type": "code",
   "execution_count": null,
   "metadata": {},
   "outputs": [],
   "source": [
    "# Dropping any indices that are non-countries ex. WLD is for the entire World CO2 emissions\n",
    "GDP_data = GDP_data.drop(index=[\"WLD\", \"IBT\", \"LMY\", \"MIC\", \"IBD\", \"EAP\", \"EAR\", \"EAS\", \"ECA\", \"ECS\", \"EMU\", \"FCS\", \"HIC\", \"HPC\", \"IDB\", \"IDA\", \"IDX\", \"LAC\", \"LIC\", \"LDC\", \"LCN\", \"LMC\", \"LMY\", \"LTE\", \"MEA\", \"MNA\", \"NAC\", \"OED\", \"PRE\", \"PST\", \"SAS\", \"SSA\", \"SSF\", \"SST\", \"TEA\", \"TEC\", \"TLA\", \"TMN\", \"TSA\", \"TSS\", \"UMC\", \"EUU\", \"ARB\", \"CEB\"])"
   ]
  },
  {
   "cell_type": "code",
   "execution_count": null,
   "metadata": {},
   "outputs": [],
   "source": [
    "GDP_data.head()"
   ]
  },
  {
   "source": [
    "## Renewable Energy Cleaning"
   ],
   "cell_type": "markdown",
   "metadata": {}
  },
  {
   "cell_type": "code",
   "execution_count": null,
   "metadata": {},
   "outputs": [],
   "source": [
    "# Loading raw Renewable Energy data and cleaning\n",
    "data = pd.read_csv('raw_data/Renewable_energy.csv')"
   ]
  },
  {
   "cell_type": "code",
   "execution_count": null,
   "metadata": {},
   "outputs": [],
   "source": [
    "# Filtering to only columns to keep \n",
    "Organized_df = data[columns_to_keep]"
   ]
  },
  {
   "cell_type": "code",
   "execution_count": null,
   "metadata": {},
   "outputs": [],
   "source": [
    "# Drop NANs\n",
    "Renewable_data = Organized_df.dropna()"
   ]
  },
  {
   "cell_type": "code",
   "execution_count": null,
   "metadata": {},
   "outputs": [],
   "source": [
    "# Renaming columns\n",
    "Renewable_data.rename(columns={\"country_name\":\"Country Name\",\"country_code\":\"Country Code\",\"indicator_name\":\"Indicator Name\"}, inplace = True)\n",
    "\n",
    "# Resetting index\n",
    "Renewable_data.set_index(\"Country Code\", inplace=True)"
   ]
  },
  {
   "cell_type": "code",
   "execution_count": null,
   "metadata": {},
   "outputs": [],
   "source": [
    "# Dropping any indices that are non-countries ex. WLD is for the entire World CO2 emissions\n",
    "Renewable_data = Renewable_data.drop(index=[\"WLD\", \"IBT\", \"LMY\", \"MIC\", \"IBD\", \"EAP\", \"EAR\", \"EAS\", \"ECA\", \"ECS\", \"EMU\", \"FCS\", \"HIC\", \"HPC\", \"IDB\", \"IDA\", \"IDX\", \"LAC\", \"LIC\", \"LDC\", \"LCN\", \"LMC\", \"LMY\", \"LTE\", \"MEA\", \"MNA\", \"NAC\", \"OED\", \"OSS\", \"PRE\", \"PST\", \"SAS\", \"SSA\", \"SSF\", \"SST\", \"TEA\", \"TEC\", \"TLA\", \"TMN\", \"TSA\", \"TSS\", \"UMC\", \"EUU\", \"ARB\", \"CEB\"])"
   ]
  },
  {
   "cell_type": "code",
   "execution_count": null,
   "metadata": {},
   "outputs": [],
   "source": [
    "Renewable_data.head(5)"
   ]
  },
  {
   "cell_type": "code",
   "execution_count": null,
   "metadata": {},
   "outputs": [],
   "source": []
  },
  {
   "source": [
    "## Exporting to clean CSVs"
   ],
   "cell_type": "markdown",
   "metadata": {}
  },
  {
   "cell_type": "code",
   "execution_count": null,
   "metadata": {},
   "outputs": [],
   "source": [
    "CO2_data.to_csv(\"Cleaned_CO2.csv\", index=True)\n",
    "\n",
    "GDP_data.to_csv(\"Cleaned_GDP.csv\", index=True)\n",
    "\n",
    "Renewable_data.to_csv(\"Cleaned_renewable.csv\", index=True)\n"
   ]
  },
  {
   "cell_type": "code",
   "execution_count": null,
   "metadata": {},
   "outputs": [],
   "source": [
    "connection_string = \"postgres:270504@localhost:5432/climate_change_db\"\n",
    "engine = create_engine(f'postgresql://{connection_string}')"
   ]
  },
  {
   "cell_type": "code",
   "execution_count": null,
   "metadata": {},
   "outputs": [],
   "source": [
    "engine.table_names()"
   ]
  },
  {
   "cell_type": "code",
   "execution_count": null,
   "metadata": {},
   "outputs": [],
   "source": [
    "CO2_data.to_sql(name='carbon_dioxide', con=engine, if_exists='append', index=False)\n",
    "GDP_data.to_sql(name='gdp', con=engine, if_exists='append', index=False)\n",
    "Renewable_data.to_sql(name='urban_population', con=engine, if_exists='append', index=False)\n",
    "Urban_data.to_sql(name='renewable_energy', con=engine, if_exists='append', index=False)"
   ]
  },
  {
   "cell_type": "code",
   "execution_count": null,
   "metadata": {},
   "outputs": [],
   "source": []
  }
 ],
 "metadata": {
  "kernelspec": {
   "name": "python392jvsc74a57bd063fd5069d213b44bf678585dea6b12cceca9941eaf7f819626cde1f2670de90d",
   "display_name": "Python 3.9.2 64-bit"
  },
  "language_info": {
   "codemirror_mode": {
    "name": "ipython",
    "version": 3
   },
   "file_extension": ".py",
   "mimetype": "text/x-python",
   "name": "python",
   "nbconvert_exporter": "python",
   "pygments_lexer": "ipython3",
   "version": "3.9.2-final"
  },
  "metadata": {
   "interpreter": {
    "hash": "63fd5069d213b44bf678585dea6b12cceca9941eaf7f819626cde1f2670de90d"
   }
  }
 },
 "nbformat": 4,
 "nbformat_minor": 4
}