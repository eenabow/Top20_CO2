{
 "cells": [
  {
   "cell_type": "code",
   "execution_count": 1,
   "metadata": {},
   "outputs": [],
   "source": [
    "# Dependencies and Setup\n",
    "import pandas as pd\n",
    "import numpy as np\n",
    "import requests"
   ]
  },
  {
   "source": [
    "## World Bank Data Cleaning"
   ],
   "cell_type": "markdown",
   "metadata": {}
  },
  {
   "cell_type": "code",
   "execution_count": 2,
   "metadata": {},
   "outputs": [],
   "source": [
    "# Storing columns to keep in a list to re-iterate over multiple csv's\n",
    "# columns_to_keep = [\"Country Name\", \"Country Code\", \"Indicator Name\", \"2015\"]\n",
    "columns_to_keep = [\"Country Name\", \"Country Code\", \"Indicator Name\", \"2000\", \"2001\", \"2002\", \"2003\", \"2004\", \"2005\", \"2006\", \"2007\", \"2008\", \"2009\", \"2010\", \"2011\", \"2012\", \"2013\", \"2014\", \"2015\"]\n",
    "\n",
    "rows_to_remove = [\"ARB\", \"CEB\", \"EUU\", \"EAP\", \"EAR\", \"EAS\", \"ECA\", \"ECS\", \"EMU\", \"FCS\", \"HIC\", \"HPC\", \"IBT\", \"IBD\", \"IDB\", \"IDA\", \"IDX\", \"INX\", \"LAC\", \"LIC\", \"LDC\", \"LCN\", \"LMC\", \"LMY\", \"LTE\",\"LMY\", \"MIC\", \"MEA\", \"MNA\", \"NAC\", \"OED\", \"OSS\", \"PRE\", \"PST\", \"SAS\", \"SSA\", \"SSF\", \"SST\", \"TEA\", \"TEC\", \"TLA\", \"TMN\", \"TSA\", \"TSS\", \"UMC\"]"
   ]
  },
  {
   "cell_type": "code",
   "execution_count": 3,
   "metadata": {},
   "outputs": [
    {
     "output_type": "execute_result",
     "data": {
      "text/plain": [
       "45"
      ]
     },
     "metadata": {},
     "execution_count": 3
    }
   ],
   "source": [
    "# Final length of list should be 265 - len(rows_to_remove)\n",
    "len(rows_to_remove)"
   ]
  },
  {
   "cell_type": "code",
   "execution_count": 4,
   "metadata": {},
   "outputs": [],
   "source": [
    "# Loading raw world bank data and adding to a list\n",
    "CO2_data = pd.read_csv('raw_data/CO2emissions_data.csv', error_bad_lines=False)\n",
    "\n",
    "GDP_data = pd.read_csv('raw_data/GDPpercapita-data.csv', error_bad_lines=False)\n",
    "\n",
    "Renewable_data = pd.read_csv('raw_data/Renewable_energy.csv', error_bad_lines=False)\n",
    "\n",
    "csv_list = []\n",
    "\n",
    "csv_list = [CO2_data, GDP_data, Renewable_data]"
   ]
  },
  {
   "cell_type": "code",
   "execution_count": 6,
   "metadata": {},
   "outputs": [],
   "source": [
    "#Loop through each world bank csv and clean at the same time \n",
    "for csv in csv_list:\n",
    "\n",
    "    # Filtering to only columns to keep \n",
    "    csv.drop(columns=[col for col in csv if col not in columns_to_keep], inplace=True)\n",
    "\n",
    "    # Rename columns \n",
    "    csv.rename(columns={\"country_name\":\"Country Name\",\"country_code\":\"Country Code\",\"indicator_name\":\"Indicator Name\"}, inplace = True)\n",
    "\n",
    "    # Set Country code as the index \n",
    "    csv.set_index(\"Country Code\", inplace=True)\n",
    "    \n",
    "    # Drop any indices that are non-countries ex. MIC is for the all Middle Income countr CO2 emissions\n",
    "    csv.drop(index=[\"ARB\", \"CEB\", \"EUU\", \"EAP\", \"EAR\", \"EAS\", \"ECA\", \"ECS\", \"EMU\", \"FCS\", \"HIC\", \"HPC\", \"IBT\", \"IBD\", \"IDB\", \"IDA\", \"IDX\", \"INX\", \"LAC\", \"LIC\", \"LDC\", \"LCN\", \"LMC\", \"LMY\", \"LTE\",\"LMY\", \"MIC\", \"MEA\", \"MNA\", \"NAC\", \"OED\", \"OSS\", \"PRE\", \"PST\", \"SAS\", \"SSA\", \"SSF\", \"SST\", \"TEA\", \"TEC\", \"TLA\", \"TMN\", \"TSA\", \"TSS\", \"UMC\"], inplace=True)"
   ]
  },
  {
   "cell_type": "code",
   "execution_count": 7,
   "metadata": {},
   "outputs": [
    {
     "output_type": "execute_result",
     "data": {
      "text/plain": [
       "              Country Name                    Indicator Name      2000  \\\n",
       "Country Code                                                             \n",
       "ABW                  Aruba  GDP per capita growth (annual %)  5.427608   \n",
       "AFG            Afghanistan  GDP per capita growth (annual %)       NaN   \n",
       "AGO                 Angola  GDP per capita growth (annual %) -0.267945   \n",
       "ALB                Albania  GDP per capita growth (annual %)  7.633866   \n",
       "AND                Andorra  GDP per capita growth (annual %)  1.913452   \n",
       "...                    ...                               ...       ...   \n",
       "XKX                 Kosovo  GDP per capita growth (annual %)       NaN   \n",
       "YEM            Yemen, Rep.  GDP per capita growth (annual %)  3.205962   \n",
       "ZAF           South Africa  GDP per capita growth (annual %)  2.742091   \n",
       "ZMB                 Zambia  GDP per capita growth (annual %)  1.150423   \n",
       "ZWE               Zimbabwe  GDP per capita growth (annual %) -3.538595   \n",
       "\n",
       "                   2001      2002       2003      2004       2005      2006  \\\n",
       "Country Code                                                                  \n",
       "ABW           -5.107188 -5.405878  -0.152951  6.031742  -0.094958  0.245883   \n",
       "AFG                 NaN       NaN   3.868362 -2.875184   7.207933  2.253357   \n",
       "AGO            0.822114  9.943764  -0.431851  7.187036  11.030836  7.582329   \n",
       "ALB            9.311124  4.853922   5.925630  5.951881   6.071391  6.570332   \n",
       "AND            4.986929  0.504741   4.040888  3.792889   1.892421  2.057546   \n",
       "...                 ...       ...        ...       ...        ...       ...   \n",
       "XKX           26.887780 -0.768379   5.908225  2.542539   5.961248  3.667026   \n",
       "YEM            0.853194  0.974921   0.789305  1.019025   2.612580  0.276736   \n",
       "ZAF            1.339791  2.397943   1.696827  3.289033   3.982017  4.277783   \n",
       "ZMB            2.595847  1.843714   4.236897  4.309021   4.471509  5.091501   \n",
       "ZWE            1.078594 -9.125525 -17.188583 -6.102875  -6.154449 -4.087259   \n",
       "\n",
       "                   2007       2008       2009       2010       2011  \\\n",
       "Country Code                                                          \n",
       "ABW            1.410010  -0.224764 -10.605300  -3.887760   3.063882   \n",
       "AFG           11.022774   1.594211  18.515369  11.264133  -2.681081   \n",
       "AGO            9.890012   7.116873  -2.808634   0.640294  -0.220851   \n",
       "ALB            6.783927   8.328036   4.048888   4.223038   2.821558   \n",
       "AND           -0.523712  -6.885786  -5.976668  -1.958707   0.830102   \n",
       "...                 ...        ...        ...        ...        ...   \n",
       "XKX            6.427746   5.455412   2.766627   2.483395   3.482471   \n",
       "YEM            0.450009   0.761294   0.986330   4.732882 -15.107922   \n",
       "ZAF            4.008500   1.823488  -2.898731   1.551073   1.720714   \n",
       "ZMB            5.497427   4.875226   6.190402   7.129801   2.423912   \n",
       "ZWE           -4.442838 -18.491136  10.701299  18.065967  12.452857   \n",
       "\n",
       "                   2012      2013      2014       2015  \n",
       "Country Code                                            \n",
       "ABW           -1.864168  3.593198 -0.294412   5.125616  \n",
       "AFG            8.974880  1.974169 -0.665271  -1.622887  \n",
       "AGO            4.706498  1.292041  1.219835  -2.468719  \n",
       "ALB            1.585156  1.187204  1.985426   2.516853  \n",
       "AND           -3.452688 -1.573746  4.524456   2.997046  \n",
       "...                 ...       ...       ...        ...  \n",
       "XKX            1.893956  2.813093  1.520680   5.525764  \n",
       "YEM           -0.391864  2.014195 -2.802880 -29.827069  \n",
       "ZAF            0.607949  0.852685  0.247279  -0.341677  \n",
       "ZMB            4.310349  1.809879  1.480524  -0.188153  \n",
       "ZWE           14.701173  0.192501  0.596198   0.100456  \n",
       "\n",
       "[220 rows x 18 columns]"
      ],
      "text/html": "<div>\n<style scoped>\n    .dataframe tbody tr th:only-of-type {\n        vertical-align: middle;\n    }\n\n    .dataframe tbody tr th {\n        vertical-align: top;\n    }\n\n    .dataframe thead th {\n        text-align: right;\n    }\n</style>\n<table border=\"1\" class=\"dataframe\">\n  <thead>\n    <tr style=\"text-align: right;\">\n      <th></th>\n      <th>Country Name</th>\n      <th>Indicator Name</th>\n      <th>2000</th>\n      <th>2001</th>\n      <th>2002</th>\n      <th>2003</th>\n      <th>2004</th>\n      <th>2005</th>\n      <th>2006</th>\n      <th>2007</th>\n      <th>2008</th>\n      <th>2009</th>\n      <th>2010</th>\n      <th>2011</th>\n      <th>2012</th>\n      <th>2013</th>\n      <th>2014</th>\n      <th>2015</th>\n    </tr>\n    <tr>\n      <th>Country Code</th>\n      <th></th>\n      <th></th>\n      <th></th>\n      <th></th>\n      <th></th>\n      <th></th>\n      <th></th>\n      <th></th>\n      <th></th>\n      <th></th>\n      <th></th>\n      <th></th>\n      <th></th>\n      <th></th>\n      <th></th>\n      <th></th>\n      <th></th>\n      <th></th>\n    </tr>\n  </thead>\n  <tbody>\n    <tr>\n      <th>ABW</th>\n      <td>Aruba</td>\n      <td>GDP per capita growth (annual %)</td>\n      <td>5.427608</td>\n      <td>-5.107188</td>\n      <td>-5.405878</td>\n      <td>-0.152951</td>\n      <td>6.031742</td>\n      <td>-0.094958</td>\n      <td>0.245883</td>\n      <td>1.410010</td>\n      <td>-0.224764</td>\n      <td>-10.605300</td>\n      <td>-3.887760</td>\n      <td>3.063882</td>\n      <td>-1.864168</td>\n      <td>3.593198</td>\n      <td>-0.294412</td>\n      <td>5.125616</td>\n    </tr>\n    <tr>\n      <th>AFG</th>\n      <td>Afghanistan</td>\n      <td>GDP per capita growth (annual %)</td>\n      <td>NaN</td>\n      <td>NaN</td>\n      <td>NaN</td>\n      <td>3.868362</td>\n      <td>-2.875184</td>\n      <td>7.207933</td>\n      <td>2.253357</td>\n      <td>11.022774</td>\n      <td>1.594211</td>\n      <td>18.515369</td>\n      <td>11.264133</td>\n      <td>-2.681081</td>\n      <td>8.974880</td>\n      <td>1.974169</td>\n      <td>-0.665271</td>\n      <td>-1.622887</td>\n    </tr>\n    <tr>\n      <th>AGO</th>\n      <td>Angola</td>\n      <td>GDP per capita growth (annual %)</td>\n      <td>-0.267945</td>\n      <td>0.822114</td>\n      <td>9.943764</td>\n      <td>-0.431851</td>\n      <td>7.187036</td>\n      <td>11.030836</td>\n      <td>7.582329</td>\n      <td>9.890012</td>\n      <td>7.116873</td>\n      <td>-2.808634</td>\n      <td>0.640294</td>\n      <td>-0.220851</td>\n      <td>4.706498</td>\n      <td>1.292041</td>\n      <td>1.219835</td>\n      <td>-2.468719</td>\n    </tr>\n    <tr>\n      <th>ALB</th>\n      <td>Albania</td>\n      <td>GDP per capita growth (annual %)</td>\n      <td>7.633866</td>\n      <td>9.311124</td>\n      <td>4.853922</td>\n      <td>5.925630</td>\n      <td>5.951881</td>\n      <td>6.071391</td>\n      <td>6.570332</td>\n      <td>6.783927</td>\n      <td>8.328036</td>\n      <td>4.048888</td>\n      <td>4.223038</td>\n      <td>2.821558</td>\n      <td>1.585156</td>\n      <td>1.187204</td>\n      <td>1.985426</td>\n      <td>2.516853</td>\n    </tr>\n    <tr>\n      <th>AND</th>\n      <td>Andorra</td>\n      <td>GDP per capita growth (annual %)</td>\n      <td>1.913452</td>\n      <td>4.986929</td>\n      <td>0.504741</td>\n      <td>4.040888</td>\n      <td>3.792889</td>\n      <td>1.892421</td>\n      <td>2.057546</td>\n      <td>-0.523712</td>\n      <td>-6.885786</td>\n      <td>-5.976668</td>\n      <td>-1.958707</td>\n      <td>0.830102</td>\n      <td>-3.452688</td>\n      <td>-1.573746</td>\n      <td>4.524456</td>\n      <td>2.997046</td>\n    </tr>\n    <tr>\n      <th>...</th>\n      <td>...</td>\n      <td>...</td>\n      <td>...</td>\n      <td>...</td>\n      <td>...</td>\n      <td>...</td>\n      <td>...</td>\n      <td>...</td>\n      <td>...</td>\n      <td>...</td>\n      <td>...</td>\n      <td>...</td>\n      <td>...</td>\n      <td>...</td>\n      <td>...</td>\n      <td>...</td>\n      <td>...</td>\n      <td>...</td>\n    </tr>\n    <tr>\n      <th>XKX</th>\n      <td>Kosovo</td>\n      <td>GDP per capita growth (annual %)</td>\n      <td>NaN</td>\n      <td>26.887780</td>\n      <td>-0.768379</td>\n      <td>5.908225</td>\n      <td>2.542539</td>\n      <td>5.961248</td>\n      <td>3.667026</td>\n      <td>6.427746</td>\n      <td>5.455412</td>\n      <td>2.766627</td>\n      <td>2.483395</td>\n      <td>3.482471</td>\n      <td>1.893956</td>\n      <td>2.813093</td>\n      <td>1.520680</td>\n      <td>5.525764</td>\n    </tr>\n    <tr>\n      <th>YEM</th>\n      <td>Yemen, Rep.</td>\n      <td>GDP per capita growth (annual %)</td>\n      <td>3.205962</td>\n      <td>0.853194</td>\n      <td>0.974921</td>\n      <td>0.789305</td>\n      <td>1.019025</td>\n      <td>2.612580</td>\n      <td>0.276736</td>\n      <td>0.450009</td>\n      <td>0.761294</td>\n      <td>0.986330</td>\n      <td>4.732882</td>\n      <td>-15.107922</td>\n      <td>-0.391864</td>\n      <td>2.014195</td>\n      <td>-2.802880</td>\n      <td>-29.827069</td>\n    </tr>\n    <tr>\n      <th>ZAF</th>\n      <td>South Africa</td>\n      <td>GDP per capita growth (annual %)</td>\n      <td>2.742091</td>\n      <td>1.339791</td>\n      <td>2.397943</td>\n      <td>1.696827</td>\n      <td>3.289033</td>\n      <td>3.982017</td>\n      <td>4.277783</td>\n      <td>4.008500</td>\n      <td>1.823488</td>\n      <td>-2.898731</td>\n      <td>1.551073</td>\n      <td>1.720714</td>\n      <td>0.607949</td>\n      <td>0.852685</td>\n      <td>0.247279</td>\n      <td>-0.341677</td>\n    </tr>\n    <tr>\n      <th>ZMB</th>\n      <td>Zambia</td>\n      <td>GDP per capita growth (annual %)</td>\n      <td>1.150423</td>\n      <td>2.595847</td>\n      <td>1.843714</td>\n      <td>4.236897</td>\n      <td>4.309021</td>\n      <td>4.471509</td>\n      <td>5.091501</td>\n      <td>5.497427</td>\n      <td>4.875226</td>\n      <td>6.190402</td>\n      <td>7.129801</td>\n      <td>2.423912</td>\n      <td>4.310349</td>\n      <td>1.809879</td>\n      <td>1.480524</td>\n      <td>-0.188153</td>\n    </tr>\n    <tr>\n      <th>ZWE</th>\n      <td>Zimbabwe</td>\n      <td>GDP per capita growth (annual %)</td>\n      <td>-3.538595</td>\n      <td>1.078594</td>\n      <td>-9.125525</td>\n      <td>-17.188583</td>\n      <td>-6.102875</td>\n      <td>-6.154449</td>\n      <td>-4.087259</td>\n      <td>-4.442838</td>\n      <td>-18.491136</td>\n      <td>10.701299</td>\n      <td>18.065967</td>\n      <td>12.452857</td>\n      <td>14.701173</td>\n      <td>0.192501</td>\n      <td>0.596198</td>\n      <td>0.100456</td>\n    </tr>\n  </tbody>\n</table>\n<p>220 rows × 18 columns</p>\n</div>"
     },
     "metadata": {},
     "execution_count": 7
    }
   ],
   "source": [
    "#Checking to confirm cleaning is correct\n",
    "GDP_data"
   ]
  },
  {
   "cell_type": "code",
   "execution_count": null,
   "metadata": {},
   "outputs": [],
   "source": [
    "##"
   ]
  },
  {
   "cell_type": "code",
   "execution_count": null,
   "metadata": {},
   "outputs": [],
   "source": [
    "# Slice top 20 countries with highest CO2 emissions -- USE THIS CHART TO FIND TOP 20 CO2 EMISSION DATA \n",
    "top20_CO2df = data.nlargest(20, '2015')\n",
    "\n",
    "top20_CO2df.sort_values(\"Country Name\", inplace= True)\n",
    "\n",
    "top20_CO2df.head(5)"
   ]
  },
  {
   "cell_type": "code",
   "execution_count": null,
   "metadata": {},
   "outputs": [],
   "source": []
  },
  {
   "cell_type": "code",
   "execution_count": null,
   "metadata": {},
   "outputs": [],
   "source": []
  },
  {
   "cell_type": "code",
   "execution_count": null,
   "metadata": {},
   "outputs": [],
   "source": []
  },
  {
   "cell_type": "code",
   "execution_count": null,
   "metadata": {},
   "outputs": [],
   "source": []
  },
  {
   "cell_type": "code",
   "execution_count": null,
   "metadata": {},
   "outputs": [],
   "source": []
  },
  {
   "source": [
    "## Exporting to clean CSVs"
   ],
   "cell_type": "markdown",
   "metadata": {}
  },
  {
   "cell_type": "code",
   "execution_count": null,
   "metadata": {},
   "outputs": [],
   "source": [
    "CO2_data.to_csv(\"Cleaned_CO2.csv\", index=True)\n",
    "\n",
    "GDP_data.to_csv(\"Cleaned_GDP.csv\", index=True)\n",
    "\n",
    "Renewable_data.to_csv(\"Cleaned_renewable.csv\", index=True)\n"
   ]
  },
  {
   "cell_type": "code",
   "execution_count": null,
   "metadata": {},
   "outputs": [],
   "source": []
  },
  {
   "cell_type": "code",
   "execution_count": null,
   "metadata": {},
   "outputs": [],
   "source": []
  },
  {
   "cell_type": "code",
   "execution_count": null,
   "metadata": {},
   "outputs": [],
   "source": []
  },
  {
   "cell_type": "code",
   "execution_count": null,
   "metadata": {},
   "outputs": [],
   "source": []
  }
 ],
 "metadata": {
  "kernelspec": {
   "name": "python392jvsc74a57bd063fd5069d213b44bf678585dea6b12cceca9941eaf7f819626cde1f2670de90d",
   "display_name": "Python 3.9.2 64-bit"
  },
  "language_info": {
   "codemirror_mode": {
    "name": "ipython",
    "version": 3
   },
   "file_extension": ".py",
   "mimetype": "text/x-python",
   "name": "python",
   "nbconvert_exporter": "python",
   "pygments_lexer": "ipython3",
   "version": "3.9.2-final"
  },
  "metadata": {
   "interpreter": {
    "hash": "63fd5069d213b44bf678585dea6b12cceca9941eaf7f819626cde1f2670de90d"
   }
  }
 },
 "nbformat": 4,
 "nbformat_minor": 4
}